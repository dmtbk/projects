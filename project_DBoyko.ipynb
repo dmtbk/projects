{
 "cells": [
  {
   "cell_type": "code",
   "execution_count": 1,
   "metadata": {},
   "outputs": [],
   "source": [
    "import pandas as pd\n",
    "import numpy as np\n",
    "import seaborn as sns\n",
    "import matplotlib.pyplot as plt\n",
    "import pingouin as pg\n",
    "import scipy.stats as stats\n",
    "from statsmodels.stats.weightstats import ztest\n",
    "import statsmodels.stats.api as sms\n",
    "from tqdm.auto import tqdm\n",
    "\n",
    "import warnings\n",
    "warnings.filterwarnings('ignore')\n",
    "\n",
    "sns.set(rc={'figure.figsize':(11.7,8.27)})"
   ]
  },
  {
   "cell_type": "markdown",
   "metadata": {},
   "source": [
    "# Nice to meet you, Data"
   ]
  },
  {
   "cell_type": "code",
   "execution_count": 2,
   "metadata": {},
   "outputs": [],
   "source": [
    "# считываем данные\n",
    "users_test = pd.read_csv('users_test.csv', sep=';')\n",
    "users_c1   = pd.read_csv('users_control_1.csv', sep=';')\n",
    "users_c2   = pd.read_csv('users_control_2.csv', sep=';')\n",
    "\n",
    "transactions_test = pd.read_csv('transactions_test.csv', sep=';')\n",
    "transactions_c1   = pd.read_csv('transactions_control_1.csv', sep=';')\n",
    "transactions_c2   = pd.read_csv('transactions_control_2.csv', sep=';')"
   ]
  },
  {
   "cell_type": "code",
   "execution_count": 3,
   "metadata": {},
   "outputs": [
    {
     "data": {
      "text/html": [
       "<div>\n",
       "<style scoped>\n",
       "    .dataframe tbody tr th:only-of-type {\n",
       "        vertical-align: middle;\n",
       "    }\n",
       "\n",
       "    .dataframe tbody tr th {\n",
       "        vertical-align: top;\n",
       "    }\n",
       "\n",
       "    .dataframe thead th {\n",
       "        text-align: right;\n",
       "    }\n",
       "</style>\n",
       "<table border=\"1\" class=\"dataframe\">\n",
       "  <thead>\n",
       "    <tr style=\"text-align: right;\">\n",
       "      <th></th>\n",
       "      <th>uid</th>\n",
       "      <th>age</th>\n",
       "      <th>attraction_coeff</th>\n",
       "      <th>coins</th>\n",
       "      <th>country</th>\n",
       "      <th>visit_days</th>\n",
       "      <th>gender</th>\n",
       "      <th>age_filter_start</th>\n",
       "      <th>age_filter_end</th>\n",
       "      <th>views_count</th>\n",
       "      <th>was_premium</th>\n",
       "      <th>is_premium</th>\n",
       "      <th>total_revenue</th>\n",
       "    </tr>\n",
       "  </thead>\n",
       "  <tbody>\n",
       "    <tr>\n",
       "      <th>0</th>\n",
       "      <td>892309896</td>\n",
       "      <td>27</td>\n",
       "      <td>685</td>\n",
       "      <td>NaN</td>\n",
       "      <td>United States of America</td>\n",
       "      <td>1,2,3,4,5,6,7,8,9,10,11,12,16,17</td>\n",
       "      <td>1</td>\n",
       "      <td>24</td>\n",
       "      <td>30</td>\n",
       "      <td>89</td>\n",
       "      <td>NaN</td>\n",
       "      <td>NaN</td>\n",
       "      <td>0</td>\n",
       "    </tr>\n",
       "  </tbody>\n",
       "</table>\n",
       "</div>"
      ],
      "text/plain": [
       "         uid  age  attraction_coeff  coins                   country  \\\n",
       "0  892309896   27               685    NaN  United States of America   \n",
       "\n",
       "                         visit_days  gender  age_filter_start  age_filter_end  \\\n",
       "0  1,2,3,4,5,6,7,8,9,10,11,12,16,17       1                24              30   \n",
       "\n",
       "   views_count  was_premium  is_premium  total_revenue  \n",
       "0           89          NaN         NaN              0  "
      ]
     },
     "execution_count": 3,
     "metadata": {},
     "output_type": "execute_result"
    }
   ],
   "source": [
    "# посмотрим структуру датасетов о пользователях на примере тестовой группы\n",
    "users_test.head(1)"
   ]
  },
  {
   "cell_type": "code",
   "execution_count": 4,
   "metadata": {},
   "outputs": [
    {
     "name": "stdout",
     "output_type": "stream",
     "text": [
      "users_test: True\n",
      "users_c1: True\n",
      "users_c2: True\n"
     ]
    }
   ],
   "source": [
    "# проверим, каждая ли строка в датасетах о пользователях содержит уникальный uid  \n",
    "print('users_test:', all(users_test.uid.value_counts() == 1))\n",
    "print('users_c1:', all(users_c1.uid.value_counts() == 1))\n",
    "print('users_c2:', all(users_c2.uid.value_counts() == 1))"
   ]
  },
  {
   "cell_type": "markdown",
   "metadata": {},
   "source": [
    "Как видим, в каждом датасете о пользователях нет повторяющихся uid, значит, датасеты о пользователях это такие таблицы, где каждая строка - это уникальный пользователь приложения, что следовало из названий таблиц. Но тем не менее, это стоило проверить :)"
   ]
  },
  {
   "cell_type": "code",
   "execution_count": 5,
   "metadata": {},
   "outputs": [
    {
     "data": {
      "text/html": [
       "<div>\n",
       "<style scoped>\n",
       "    .dataframe tbody tr th:only-of-type {\n",
       "        vertical-align: middle;\n",
       "    }\n",
       "\n",
       "    .dataframe tbody tr th {\n",
       "        vertical-align: top;\n",
       "    }\n",
       "\n",
       "    .dataframe thead th {\n",
       "        text-align: right;\n",
       "    }\n",
       "</style>\n",
       "<table border=\"1\" class=\"dataframe\">\n",
       "  <thead>\n",
       "    <tr style=\"text-align: right;\">\n",
       "      <th></th>\n",
       "      <th>uid</th>\n",
       "      <th>country</th>\n",
       "      <th>joined_at</th>\n",
       "      <th>paid_at</th>\n",
       "      <th>revenue</th>\n",
       "      <th>payment_id</th>\n",
       "      <th>from_page</th>\n",
       "      <th>product_type</th>\n",
       "    </tr>\n",
       "  </thead>\n",
       "  <tbody>\n",
       "    <tr>\n",
       "      <th>0</th>\n",
       "      <td>891345942</td>\n",
       "      <td>Italy</td>\n",
       "      <td>2017-05-11 13:00:00</td>\n",
       "      <td>2017-11-13 15:04:00</td>\n",
       "      <td>12909</td>\n",
       "      <td>147</td>\n",
       "      <td>trial_vip_popup</td>\n",
       "      <td>trial_premium</td>\n",
       "    </tr>\n",
       "  </tbody>\n",
       "</table>\n",
       "</div>"
      ],
      "text/plain": [
       "         uid country            joined_at              paid_at  revenue  \\\n",
       "0  891345942   Italy  2017-05-11 13:00:00  2017-11-13 15:04:00    12909   \n",
       "\n",
       "   payment_id        from_page   product_type  \n",
       "0         147  trial_vip_popup  trial_premium  "
      ]
     },
     "execution_count": 5,
     "metadata": {},
     "output_type": "execute_result"
    }
   ],
   "source": [
    "# посмотрим структуру датасетов о транзакциях пользователей на примере тестовой группы\n",
    "transactions_test.head(1)"
   ]
  },
  {
   "cell_type": "code",
   "execution_count": 6,
   "metadata": {},
   "outputs": [
    {
     "name": "stdout",
     "output_type": "stream",
     "text": [
      "transactions_test: False\n",
      "transactions_c1: False\n",
      "transactions_c2: False\n"
     ]
    }
   ],
   "source": [
    "# проверим, каждая ли строка в датасетах о транзакицях пользователей содержит уникальный uid \n",
    "print('transactions_test:', all(transactions_test.uid.value_counts() == 1))\n",
    "print('transactions_c1:', all(transactions_c1.uid.value_counts() == 1))\n",
    "print('transactions_c2:', all(transactions_c2.uid.value_counts() == 1))"
   ]
  },
  {
   "cell_type": "markdown",
   "metadata": {},
   "source": [
    "Названия таблиц не наврали и здесь! Действительно, строка в датасетах о транзакциях пользователей содержит информацию о той или иной совершённой транзакции пользователя приложения."
   ]
  },
  {
   "cell_type": "markdown",
   "metadata": {},
   "source": [
    "## How big is it?"
   ]
  },
  {
   "cell_type": "code",
   "execution_count": 7,
   "metadata": {},
   "outputs": [
    {
     "name": "stdout",
     "output_type": "stream",
     "text": [
      "Датасет о пользователях тестовой группы содержит 4308 строк и 13 столбцов\n",
      "Датасет о пользователях первой контрольной группы содержит 4340 строк и 13 столбцов\n",
      "Датасет о пользователях второй контрольной группы содержит 4264 строк и 13 столбцов\n",
      "\n",
      "Датасет о транзакциях пользователей из тестовой группы содержит 273 строк и 8 столбцов\n",
      "Датасет о транзакциях пользователей из первой контрольной группы содержит 1007 строк и 8 столбцов\n",
      "Датасет о транзакциях пользователей из второй контрольной группы содержит 328 строк и 8 столбцов\n"
     ]
    }
   ],
   "source": [
    "# посмотрим на размерность датасетов\n",
    "users_test_rows, users_test_columns = users_test.shape\n",
    "users_c1_rows, users_c1_columns = users_c1.shape\n",
    "users_c2_rows, users_c2_columns = users_c2.shape\n",
    "\n",
    "transactions_test_rows, transactions_test_columns = transactions_test.shape\n",
    "transactions_c1_rows, transactions_c1_columns = transactions_c1.shape\n",
    "transactions_c2_rows, transactions_c2_columns = transactions_c2.shape\n",
    "\n",
    "print(f'Датасет о пользователях тестовой группы содержит {users_test_rows} строк \\\n",
    "и {users_test_columns} столбцов')\n",
    "print(f'Датасет о пользователях первой контрольной группы содержит {users_c1_rows} строк \\\n",
    "и {users_c1_columns} столбцов')\n",
    "print(f'Датасет о пользователях второй контрольной группы содержит {users_c2_rows} строк \\\n",
    "и {users_c2_columns} столбцов\\n')\n",
    "\n",
    "print(f'Датасет о транзакциях пользователей из тестовой группы \\\n",
    "содержит {transactions_test_rows} строк и {transactions_test_columns} столбцов')\n",
    "print(f'Датасет о транзакциях пользователей из первой контрольной группы \\\n",
    "содержит {transactions_c1_rows} строк и {transactions_c1_columns} столбцов')\n",
    "print(f'Датасет о транзакциях пользователей из второй контрольной группы \\\n",
    "содержит {transactions_c2_rows} строк и {transactions_c2_columns} столбцов')"
   ]
  },
  {
   "cell_type": "markdown",
   "metadata": {},
   "source": [
    "На первый взгляд, кажется интересным то, что датасет о транзакциях первой контрольной группы содержит в 3-4 раза больше строк, чем другие группы. Это в первую группу попали такие активные пользователи (что может говорить о плохой работе системы сплитования)? Или здесь что-то не так с данными?.. Будем разбираться!"
   ]
  },
  {
   "cell_type": "markdown",
   "metadata": {},
   "source": [
    "## Attention! Missing data"
   ]
  },
  {
   "cell_type": "code",
   "execution_count": 8,
   "metadata": {},
   "outputs": [
    {
     "data": {
      "text/html": [
       "<div>\n",
       "<style scoped>\n",
       "    .dataframe tbody tr th:only-of-type {\n",
       "        vertical-align: middle;\n",
       "    }\n",
       "\n",
       "    .dataframe tbody tr th {\n",
       "        vertical-align: top;\n",
       "    }\n",
       "\n",
       "    .dataframe thead th {\n",
       "        text-align: right;\n",
       "    }\n",
       "</style>\n",
       "<table border=\"1\" class=\"dataframe\">\n",
       "  <thead>\n",
       "    <tr style=\"text-align: right;\">\n",
       "      <th></th>\n",
       "      <th>column</th>\n",
       "      <th>users_test</th>\n",
       "      <th>users_c1</th>\n",
       "      <th>users_c2</th>\n",
       "    </tr>\n",
       "  </thead>\n",
       "  <tbody>\n",
       "    <tr>\n",
       "      <th>0</th>\n",
       "      <td>uid</td>\n",
       "      <td>0</td>\n",
       "      <td>0</td>\n",
       "      <td>0</td>\n",
       "    </tr>\n",
       "    <tr>\n",
       "      <th>1</th>\n",
       "      <td>age</td>\n",
       "      <td>0</td>\n",
       "      <td>0</td>\n",
       "      <td>0</td>\n",
       "    </tr>\n",
       "    <tr>\n",
       "      <th>2</th>\n",
       "      <td>attraction_coeff</td>\n",
       "      <td>0</td>\n",
       "      <td>0</td>\n",
       "      <td>0</td>\n",
       "    </tr>\n",
       "    <tr>\n",
       "      <th>3</th>\n",
       "      <td>coins</td>\n",
       "      <td>4259</td>\n",
       "      <td>4280</td>\n",
       "      <td>4203</td>\n",
       "    </tr>\n",
       "    <tr>\n",
       "      <th>4</th>\n",
       "      <td>country</td>\n",
       "      <td>0</td>\n",
       "      <td>0</td>\n",
       "      <td>0</td>\n",
       "    </tr>\n",
       "    <tr>\n",
       "      <th>5</th>\n",
       "      <td>visit_days</td>\n",
       "      <td>1330</td>\n",
       "      <td>1324</td>\n",
       "      <td>1364</td>\n",
       "    </tr>\n",
       "    <tr>\n",
       "      <th>6</th>\n",
       "      <td>gender</td>\n",
       "      <td>0</td>\n",
       "      <td>0</td>\n",
       "      <td>0</td>\n",
       "    </tr>\n",
       "    <tr>\n",
       "      <th>7</th>\n",
       "      <td>age_filter_start</td>\n",
       "      <td>0</td>\n",
       "      <td>0</td>\n",
       "      <td>0</td>\n",
       "    </tr>\n",
       "    <tr>\n",
       "      <th>8</th>\n",
       "      <td>age_filter_end</td>\n",
       "      <td>0</td>\n",
       "      <td>0</td>\n",
       "      <td>0</td>\n",
       "    </tr>\n",
       "    <tr>\n",
       "      <th>9</th>\n",
       "      <td>views_count</td>\n",
       "      <td>0</td>\n",
       "      <td>0</td>\n",
       "      <td>0</td>\n",
       "    </tr>\n",
       "    <tr>\n",
       "      <th>10</th>\n",
       "      <td>was_premium</td>\n",
       "      <td>3900</td>\n",
       "      <td>3904</td>\n",
       "      <td>3853</td>\n",
       "    </tr>\n",
       "    <tr>\n",
       "      <th>11</th>\n",
       "      <td>is_premium</td>\n",
       "      <td>4151</td>\n",
       "      <td>4148</td>\n",
       "      <td>4073</td>\n",
       "    </tr>\n",
       "    <tr>\n",
       "      <th>12</th>\n",
       "      <td>total_revenue</td>\n",
       "      <td>0</td>\n",
       "      <td>0</td>\n",
       "      <td>0</td>\n",
       "    </tr>\n",
       "  </tbody>\n",
       "</table>\n",
       "</div>"
      ],
      "text/plain": [
       "              column  users_test  users_c1  users_c2\n",
       "0                uid           0         0         0\n",
       "1                age           0         0         0\n",
       "2   attraction_coeff           0         0         0\n",
       "3              coins        4259      4280      4203\n",
       "4            country           0         0         0\n",
       "5         visit_days        1330      1324      1364\n",
       "6             gender           0         0         0\n",
       "7   age_filter_start           0         0         0\n",
       "8     age_filter_end           0         0         0\n",
       "9        views_count           0         0         0\n",
       "10       was_premium        3900      3904      3853\n",
       "11        is_premium        4151      4148      4073\n",
       "12     total_revenue           0         0         0"
      ]
     },
     "execution_count": 8,
     "metadata": {},
     "output_type": "execute_result"
    }
   ],
   "source": [
    "# посмотрим количество пропущенных значений в трёх датасетах о пользователях \n",
    "null_summary_users = users_test \\\n",
    "                        .isna() \\\n",
    "                        .sum() \\\n",
    "                        .to_frame() \\\n",
    "                        .reset_index() \\\n",
    "                        .rename(columns={'index': 'column', 0: 'users_test'}) \\\n",
    "                     .merge(users_c1\n",
    "                        .isna()\n",
    "                        .sum()\n",
    "                        .to_frame()\n",
    "                        .reset_index()\n",
    "                        .rename(columns={'index': 'column', 0: 'users_c1'}) , on='column') \\\n",
    "                     .merge(users_c2\n",
    "                        .isna()\n",
    "                        .sum()\n",
    "                        .to_frame()\n",
    "                        .reset_index()\n",
    "                        .rename(columns={'index': 'column', 0: 'users_c2'}) , on='column')\n",
    "\n",
    "null_summary_users"
   ]
  },
  {
   "cell_type": "code",
   "execution_count": 9,
   "metadata": {},
   "outputs": [
    {
     "data": {
      "text/html": [
       "<div>\n",
       "<style scoped>\n",
       "    .dataframe tbody tr th:only-of-type {\n",
       "        vertical-align: middle;\n",
       "    }\n",
       "\n",
       "    .dataframe tbody tr th {\n",
       "        vertical-align: top;\n",
       "    }\n",
       "\n",
       "    .dataframe thead th {\n",
       "        text-align: right;\n",
       "    }\n",
       "</style>\n",
       "<table border=\"1\" class=\"dataframe\">\n",
       "  <thead>\n",
       "    <tr style=\"text-align: right;\">\n",
       "      <th></th>\n",
       "      <th>column</th>\n",
       "      <th>transactions_test</th>\n",
       "      <th>transactions_c1</th>\n",
       "      <th>transactions_c2</th>\n",
       "    </tr>\n",
       "  </thead>\n",
       "  <tbody>\n",
       "    <tr>\n",
       "      <th>0</th>\n",
       "      <td>uid</td>\n",
       "      <td>0</td>\n",
       "      <td>630</td>\n",
       "      <td>0</td>\n",
       "    </tr>\n",
       "    <tr>\n",
       "      <th>1</th>\n",
       "      <td>country</td>\n",
       "      <td>0</td>\n",
       "      <td>630</td>\n",
       "      <td>0</td>\n",
       "    </tr>\n",
       "    <tr>\n",
       "      <th>2</th>\n",
       "      <td>joined_at</td>\n",
       "      <td>0</td>\n",
       "      <td>0</td>\n",
       "      <td>0</td>\n",
       "    </tr>\n",
       "    <tr>\n",
       "      <th>3</th>\n",
       "      <td>paid_at</td>\n",
       "      <td>0</td>\n",
       "      <td>0</td>\n",
       "      <td>0</td>\n",
       "    </tr>\n",
       "    <tr>\n",
       "      <th>4</th>\n",
       "      <td>revenue</td>\n",
       "      <td>0</td>\n",
       "      <td>630</td>\n",
       "      <td>0</td>\n",
       "    </tr>\n",
       "    <tr>\n",
       "      <th>5</th>\n",
       "      <td>payment_id</td>\n",
       "      <td>0</td>\n",
       "      <td>630</td>\n",
       "      <td>0</td>\n",
       "    </tr>\n",
       "    <tr>\n",
       "      <th>6</th>\n",
       "      <td>from_page</td>\n",
       "      <td>0</td>\n",
       "      <td>630</td>\n",
       "      <td>0</td>\n",
       "    </tr>\n",
       "    <tr>\n",
       "      <th>7</th>\n",
       "      <td>product_type</td>\n",
       "      <td>0</td>\n",
       "      <td>630</td>\n",
       "      <td>0</td>\n",
       "    </tr>\n",
       "  </tbody>\n",
       "</table>\n",
       "</div>"
      ],
      "text/plain": [
       "         column  transactions_test  transactions_c1  transactions_c2\n",
       "0           uid                  0              630                0\n",
       "1       country                  0              630                0\n",
       "2     joined_at                  0                0                0\n",
       "3       paid_at                  0                0                0\n",
       "4       revenue                  0              630                0\n",
       "5    payment_id                  0              630                0\n",
       "6     from_page                  0              630                0\n",
       "7  product_type                  0              630                0"
      ]
     },
     "execution_count": 9,
     "metadata": {},
     "output_type": "execute_result"
    }
   ],
   "source": [
    "# посмотрим количество пропущенных значений в трёх датасетах о транзакциях пользователей \n",
    "null_summary_transactions = transactions_test \\\n",
    "                                .isna() \\\n",
    "                                .sum() \\\n",
    "                                .to_frame() \\\n",
    "                                .reset_index() \\\n",
    "                                .rename(columns={'index': 'column', 0: 'transactions_test'}) \\\n",
    "                            .merge(transactions_c1\n",
    "                                .isna()\n",
    "                                .sum()\n",
    "                                .to_frame()\n",
    "                                .reset_index()\n",
    "                                .rename(columns={'index': 'column', 0: 'transactions_c1'}) , on='column') \\\n",
    "                            .merge(transactions_c2\n",
    "                                .isna()\n",
    "                                .sum()\n",
    "                                .to_frame()\n",
    "                                .reset_index()\n",
    "                                .rename(columns={'index': 'column', 0: 'transactions_c2'}) , on='column')\n",
    "\n",
    "null_summary_transactions"
   ]
  },
  {
   "cell_type": "markdown",
   "metadata": {},
   "source": [
    "Оказывается, датасет о транзакциях первой контрольной группы содержит очень много строк с пустыми значениями по всем стоблцам, за исключением joined_at и paid_at. Скорее всего, это баг. Теперь понятно, почему в данном датасете относительно много строк."
   ]
  },
  {
   "cell_type": "markdown",
   "metadata": {},
   "source": [
    "## Did pandas get it right?"
   ]
  },
  {
   "cell_type": "code",
   "execution_count": 10,
   "metadata": {},
   "outputs": [
    {
     "data": {
      "text/html": [
       "<div>\n",
       "<style scoped>\n",
       "    .dataframe tbody tr th:only-of-type {\n",
       "        vertical-align: middle;\n",
       "    }\n",
       "\n",
       "    .dataframe tbody tr th {\n",
       "        vertical-align: top;\n",
       "    }\n",
       "\n",
       "    .dataframe thead th {\n",
       "        text-align: right;\n",
       "    }\n",
       "</style>\n",
       "<table border=\"1\" class=\"dataframe\">\n",
       "  <thead>\n",
       "    <tr style=\"text-align: right;\">\n",
       "      <th></th>\n",
       "      <th>column</th>\n",
       "      <th>users_test</th>\n",
       "      <th>users_c1</th>\n",
       "      <th>users_c2</th>\n",
       "    </tr>\n",
       "  </thead>\n",
       "  <tbody>\n",
       "    <tr>\n",
       "      <th>0</th>\n",
       "      <td>uid</td>\n",
       "      <td>int64</td>\n",
       "      <td>int64</td>\n",
       "      <td>int64</td>\n",
       "    </tr>\n",
       "    <tr>\n",
       "      <th>1</th>\n",
       "      <td>age</td>\n",
       "      <td>int64</td>\n",
       "      <td>int64</td>\n",
       "      <td>int64</td>\n",
       "    </tr>\n",
       "    <tr>\n",
       "      <th>2</th>\n",
       "      <td>attraction_coeff</td>\n",
       "      <td>int64</td>\n",
       "      <td>int64</td>\n",
       "      <td>int64</td>\n",
       "    </tr>\n",
       "    <tr>\n",
       "      <th>3</th>\n",
       "      <td>coins</td>\n",
       "      <td>float64</td>\n",
       "      <td>float64</td>\n",
       "      <td>float64</td>\n",
       "    </tr>\n",
       "    <tr>\n",
       "      <th>4</th>\n",
       "      <td>country</td>\n",
       "      <td>object</td>\n",
       "      <td>object</td>\n",
       "      <td>object</td>\n",
       "    </tr>\n",
       "    <tr>\n",
       "      <th>5</th>\n",
       "      <td>visit_days</td>\n",
       "      <td>object</td>\n",
       "      <td>object</td>\n",
       "      <td>object</td>\n",
       "    </tr>\n",
       "    <tr>\n",
       "      <th>6</th>\n",
       "      <td>gender</td>\n",
       "      <td>int64</td>\n",
       "      <td>int64</td>\n",
       "      <td>int64</td>\n",
       "    </tr>\n",
       "    <tr>\n",
       "      <th>7</th>\n",
       "      <td>age_filter_start</td>\n",
       "      <td>int64</td>\n",
       "      <td>int64</td>\n",
       "      <td>int64</td>\n",
       "    </tr>\n",
       "    <tr>\n",
       "      <th>8</th>\n",
       "      <td>age_filter_end</td>\n",
       "      <td>int64</td>\n",
       "      <td>int64</td>\n",
       "      <td>int64</td>\n",
       "    </tr>\n",
       "    <tr>\n",
       "      <th>9</th>\n",
       "      <td>views_count</td>\n",
       "      <td>int64</td>\n",
       "      <td>int64</td>\n",
       "      <td>int64</td>\n",
       "    </tr>\n",
       "    <tr>\n",
       "      <th>10</th>\n",
       "      <td>was_premium</td>\n",
       "      <td>float64</td>\n",
       "      <td>float64</td>\n",
       "      <td>float64</td>\n",
       "    </tr>\n",
       "    <tr>\n",
       "      <th>11</th>\n",
       "      <td>is_premium</td>\n",
       "      <td>float64</td>\n",
       "      <td>float64</td>\n",
       "      <td>float64</td>\n",
       "    </tr>\n",
       "    <tr>\n",
       "      <th>12</th>\n",
       "      <td>total_revenue</td>\n",
       "      <td>int64</td>\n",
       "      <td>int64</td>\n",
       "      <td>int64</td>\n",
       "    </tr>\n",
       "  </tbody>\n",
       "</table>\n",
       "</div>"
      ],
      "text/plain": [
       "              column users_test users_c1 users_c2\n",
       "0                uid      int64    int64    int64\n",
       "1                age      int64    int64    int64\n",
       "2   attraction_coeff      int64    int64    int64\n",
       "3              coins    float64  float64  float64\n",
       "4            country     object   object   object\n",
       "5         visit_days     object   object   object\n",
       "6             gender      int64    int64    int64\n",
       "7   age_filter_start      int64    int64    int64\n",
       "8     age_filter_end      int64    int64    int64\n",
       "9        views_count      int64    int64    int64\n",
       "10       was_premium    float64  float64  float64\n",
       "11        is_premium    float64  float64  float64\n",
       "12     total_revenue      int64    int64    int64"
      ]
     },
     "execution_count": 10,
     "metadata": {},
     "output_type": "execute_result"
    }
   ],
   "source": [
    "# посмотрим, правильно ли считались типы данных в трёх датасетах о пользователях\n",
    "dtypes_summary_users = users_test \\\n",
    "                        .dtypes \\\n",
    "                        .to_frame() \\\n",
    "                        .reset_index() \\\n",
    "                        .rename(columns={'index': 'column', 0: 'users_test'}) \\\n",
    "                       .merge(users_c1\n",
    "                        .dtypes\n",
    "                        .to_frame()\n",
    "                        .reset_index()\n",
    "                        .rename(columns={'index': 'column', 0: 'users_c1'}) , on='column') \\\n",
    "                       .merge(users_c2\n",
    "                        .dtypes\n",
    "                        .to_frame()\n",
    "                        .reset_index()\n",
    "                        .rename(columns={'index': 'column', 0: 'users_c2'}) , on='column')\n",
    "\n",
    "dtypes_summary_users"
   ]
  },
  {
   "cell_type": "markdown",
   "metadata": {},
   "source": [
    "Стоит отметить, что бинарная переменная gender считалась как int, а другие бинарные переменные was_premium и is_premium считались как float - это не страшно. В целом, данные считались правильно."
   ]
  },
  {
   "cell_type": "code",
   "execution_count": 11,
   "metadata": {},
   "outputs": [
    {
     "data": {
      "text/html": [
       "<div>\n",
       "<style scoped>\n",
       "    .dataframe tbody tr th:only-of-type {\n",
       "        vertical-align: middle;\n",
       "    }\n",
       "\n",
       "    .dataframe tbody tr th {\n",
       "        vertical-align: top;\n",
       "    }\n",
       "\n",
       "    .dataframe thead th {\n",
       "        text-align: right;\n",
       "    }\n",
       "</style>\n",
       "<table border=\"1\" class=\"dataframe\">\n",
       "  <thead>\n",
       "    <tr style=\"text-align: right;\">\n",
       "      <th></th>\n",
       "      <th>column</th>\n",
       "      <th>transactions_test</th>\n",
       "      <th>transactions_c1</th>\n",
       "      <th>transactions_c2</th>\n",
       "    </tr>\n",
       "  </thead>\n",
       "  <tbody>\n",
       "    <tr>\n",
       "      <th>0</th>\n",
       "      <td>uid</td>\n",
       "      <td>int64</td>\n",
       "      <td>float64</td>\n",
       "      <td>int64</td>\n",
       "    </tr>\n",
       "    <tr>\n",
       "      <th>1</th>\n",
       "      <td>country</td>\n",
       "      <td>object</td>\n",
       "      <td>object</td>\n",
       "      <td>object</td>\n",
       "    </tr>\n",
       "    <tr>\n",
       "      <th>2</th>\n",
       "      <td>joined_at</td>\n",
       "      <td>object</td>\n",
       "      <td>object</td>\n",
       "      <td>object</td>\n",
       "    </tr>\n",
       "    <tr>\n",
       "      <th>3</th>\n",
       "      <td>paid_at</td>\n",
       "      <td>object</td>\n",
       "      <td>object</td>\n",
       "      <td>object</td>\n",
       "    </tr>\n",
       "    <tr>\n",
       "      <th>4</th>\n",
       "      <td>revenue</td>\n",
       "      <td>int64</td>\n",
       "      <td>float64</td>\n",
       "      <td>int64</td>\n",
       "    </tr>\n",
       "    <tr>\n",
       "      <th>5</th>\n",
       "      <td>payment_id</td>\n",
       "      <td>int64</td>\n",
       "      <td>float64</td>\n",
       "      <td>int64</td>\n",
       "    </tr>\n",
       "    <tr>\n",
       "      <th>6</th>\n",
       "      <td>from_page</td>\n",
       "      <td>object</td>\n",
       "      <td>object</td>\n",
       "      <td>object</td>\n",
       "    </tr>\n",
       "    <tr>\n",
       "      <th>7</th>\n",
       "      <td>product_type</td>\n",
       "      <td>object</td>\n",
       "      <td>object</td>\n",
       "      <td>object</td>\n",
       "    </tr>\n",
       "  </tbody>\n",
       "</table>\n",
       "</div>"
      ],
      "text/plain": [
       "         column transactions_test transactions_c1 transactions_c2\n",
       "0           uid             int64         float64           int64\n",
       "1       country            object          object          object\n",
       "2     joined_at            object          object          object\n",
       "3       paid_at            object          object          object\n",
       "4       revenue             int64         float64           int64\n",
       "5    payment_id             int64         float64           int64\n",
       "6     from_page            object          object          object\n",
       "7  product_type            object          object          object"
      ]
     },
     "execution_count": 11,
     "metadata": {},
     "output_type": "execute_result"
    }
   ],
   "source": [
    "# посмотрим, правильно ли считались типы данных в трёх датасетах о транзакциях пользователей\n",
    "dtypes_summary_transactions = transactions_test \\\n",
    "                                .dtypes \\\n",
    "                                .to_frame() \\\n",
    "                                .reset_index() \\\n",
    "                                .rename(columns={'index': 'column', 0: 'transactions_test'}) \\\n",
    "                              .merge(transactions_c1\n",
    "                                .dtypes\n",
    "                                .to_frame()\n",
    "                                .reset_index()\n",
    "                                .rename(columns={'index': 'column', 0: 'transactions_c1'}) , on='column') \\\n",
    "                              .merge(transactions_c2\n",
    "                                .dtypes\n",
    "                                .to_frame()\n",
    "                                .reset_index()\n",
    "                                .rename(columns={'index': 'column', 0: 'transactions_c2'}) , on='column')\n",
    "\n",
    "dtypes_summary_transactions"
   ]
  },
  {
   "cell_type": "markdown",
   "metadata": {},
   "source": [
    "А вот здесь, к сожалению, пандас не считал правильно колонки с датами joined_at и paid_at (хотя, было бы странно, если бы он их считал правильно, ведь я не указывал parse_dates в pd.read_csv()). Не беда, исправим!"
   ]
  },
  {
   "cell_type": "code",
   "execution_count": 12,
   "metadata": {},
   "outputs": [],
   "source": [
    "# приведем колонки с датами к нужному типу во всех датасетах\n",
    "transactions_test['joined_at'] = pd.to_datetime(transactions_test.joined_at, format=\"%Y-%m-%d %H:%M:%S\")\n",
    "transactions_test['paid_at'] = pd.to_datetime(transactions_test.paid_at, format=\"%Y-%m-%d %H:%M:%S\")\n",
    "\n",
    "transactions_c1['joined_at'] = pd.to_datetime(transactions_c1.joined_at, format=\"%Y-%m-%d %H:%M:%S\")\n",
    "transactions_c1['paid_at'] = pd.to_datetime(transactions_c1.paid_at, format=\"%Y-%m-%d %H:%M:%S\")\n",
    "\n",
    "transactions_c2['joined_at'] = pd.to_datetime(transactions_c2.joined_at, format=\"%Y-%m-%d %H:%M:%S\")\n",
    "transactions_c2['paid_at'] = pd.to_datetime(transactions_c2.paid_at, format=\"%Y-%m-%d %H:%M:%S\")"
   ]
  },
  {
   "cell_type": "code",
   "execution_count": 13,
   "metadata": {},
   "outputs": [
    {
     "data": {
      "text/html": [
       "<div>\n",
       "<style scoped>\n",
       "    .dataframe tbody tr th:only-of-type {\n",
       "        vertical-align: middle;\n",
       "    }\n",
       "\n",
       "    .dataframe tbody tr th {\n",
       "        vertical-align: top;\n",
       "    }\n",
       "\n",
       "    .dataframe thead th {\n",
       "        text-align: right;\n",
       "    }\n",
       "</style>\n",
       "<table border=\"1\" class=\"dataframe\">\n",
       "  <thead>\n",
       "    <tr style=\"text-align: right;\">\n",
       "      <th></th>\n",
       "      <th>column</th>\n",
       "      <th>transactions_test</th>\n",
       "      <th>transactions_c1</th>\n",
       "      <th>transactions_c2</th>\n",
       "    </tr>\n",
       "  </thead>\n",
       "  <tbody>\n",
       "    <tr>\n",
       "      <th>0</th>\n",
       "      <td>uid</td>\n",
       "      <td>int64</td>\n",
       "      <td>float64</td>\n",
       "      <td>int64</td>\n",
       "    </tr>\n",
       "    <tr>\n",
       "      <th>1</th>\n",
       "      <td>country</td>\n",
       "      <td>object</td>\n",
       "      <td>object</td>\n",
       "      <td>object</td>\n",
       "    </tr>\n",
       "    <tr>\n",
       "      <th>2</th>\n",
       "      <td>joined_at</td>\n",
       "      <td>datetime64[ns]</td>\n",
       "      <td>datetime64[ns]</td>\n",
       "      <td>datetime64[ns]</td>\n",
       "    </tr>\n",
       "    <tr>\n",
       "      <th>3</th>\n",
       "      <td>paid_at</td>\n",
       "      <td>datetime64[ns]</td>\n",
       "      <td>datetime64[ns]</td>\n",
       "      <td>datetime64[ns]</td>\n",
       "    </tr>\n",
       "    <tr>\n",
       "      <th>4</th>\n",
       "      <td>revenue</td>\n",
       "      <td>int64</td>\n",
       "      <td>float64</td>\n",
       "      <td>int64</td>\n",
       "    </tr>\n",
       "    <tr>\n",
       "      <th>5</th>\n",
       "      <td>payment_id</td>\n",
       "      <td>int64</td>\n",
       "      <td>float64</td>\n",
       "      <td>int64</td>\n",
       "    </tr>\n",
       "    <tr>\n",
       "      <th>6</th>\n",
       "      <td>from_page</td>\n",
       "      <td>object</td>\n",
       "      <td>object</td>\n",
       "      <td>object</td>\n",
       "    </tr>\n",
       "    <tr>\n",
       "      <th>7</th>\n",
       "      <td>product_type</td>\n",
       "      <td>object</td>\n",
       "      <td>object</td>\n",
       "      <td>object</td>\n",
       "    </tr>\n",
       "  </tbody>\n",
       "</table>\n",
       "</div>"
      ],
      "text/plain": [
       "         column transactions_test transactions_c1 transactions_c2\n",
       "0           uid             int64         float64           int64\n",
       "1       country            object          object          object\n",
       "2     joined_at    datetime64[ns]  datetime64[ns]  datetime64[ns]\n",
       "3       paid_at    datetime64[ns]  datetime64[ns]  datetime64[ns]\n",
       "4       revenue             int64         float64           int64\n",
       "5    payment_id             int64         float64           int64\n",
       "6     from_page            object          object          object\n",
       "7  product_type            object          object          object"
      ]
     },
     "execution_count": 13,
     "metadata": {},
     "output_type": "execute_result"
    }
   ],
   "source": [
    "# проверим изменения\n",
    "dtypes_summary_transactions = transactions_test \\\n",
    "                                .dtypes \\\n",
    "                                .to_frame() \\\n",
    "                                .reset_index() \\\n",
    "                                .rename(columns={'index': 'column', 0: 'transactions_test'}) \\\n",
    "                              .merge(transactions_c1\n",
    "                                .dtypes\n",
    "                                .to_frame()\n",
    "                                .reset_index()\n",
    "                                .rename(columns={'index': 'column', 0: 'transactions_c1'}) , on='column') \\\n",
    "                              .merge(transactions_c2\n",
    "                                .dtypes\n",
    "                                .to_frame()\n",
    "                                .reset_index()\n",
    "                                .rename(columns={'index': 'column', 0: 'transactions_c2'}) , on='column')\n",
    "\n",
    "dtypes_summary_transactions"
   ]
  },
  {
   "cell_type": "markdown",
   "metadata": {},
   "source": [
    "Отлично! Теперь все колонки имеют правильный тип данных и можно переходить к блоку описательной статистики."
   ]
  },
  {
   "cell_type": "markdown",
   "metadata": {},
   "source": [
    "## Descriptive Statistics"
   ]
  },
  {
   "cell_type": "code",
   "execution_count": 14,
   "metadata": {},
   "outputs": [
    {
     "data": {
      "text/html": [
       "<div>\n",
       "<style scoped>\n",
       "    .dataframe tbody tr th:only-of-type {\n",
       "        vertical-align: middle;\n",
       "    }\n",
       "\n",
       "    .dataframe tbody tr th {\n",
       "        vertical-align: top;\n",
       "    }\n",
       "\n",
       "    .dataframe thead th {\n",
       "        text-align: right;\n",
       "    }\n",
       "</style>\n",
       "<table border=\"1\" class=\"dataframe\">\n",
       "  <thead>\n",
       "    <tr style=\"text-align: right;\">\n",
       "      <th></th>\n",
       "      <th>age_test</th>\n",
       "      <th>age_c1</th>\n",
       "      <th>age_c2</th>\n",
       "      <th>gender_test</th>\n",
       "      <th>gender_c1</th>\n",
       "      <th>gender_c2</th>\n",
       "      <th>revenue_test</th>\n",
       "      <th>revenue_c1</th>\n",
       "      <th>revenue_c2</th>\n",
       "    </tr>\n",
       "  </thead>\n",
       "  <tbody>\n",
       "    <tr>\n",
       "      <th>count</th>\n",
       "      <td>4308.000000</td>\n",
       "      <td>4340.000000</td>\n",
       "      <td>4264.000000</td>\n",
       "      <td>4308.000000</td>\n",
       "      <td>4340.000000</td>\n",
       "      <td>4264.000000</td>\n",
       "      <td>4308.000000</td>\n",
       "      <td>4340.000000</td>\n",
       "      <td>4264.000000</td>\n",
       "    </tr>\n",
       "    <tr>\n",
       "      <th>mean</th>\n",
       "      <td>31.889276</td>\n",
       "      <td>32.095392</td>\n",
       "      <td>32.046201</td>\n",
       "      <td>0.953110</td>\n",
       "      <td>0.958065</td>\n",
       "      <td>0.954268</td>\n",
       "      <td>534.080316</td>\n",
       "      <td>594.761982</td>\n",
       "      <td>450.384146</td>\n",
       "    </tr>\n",
       "    <tr>\n",
       "      <th>std</th>\n",
       "      <td>10.245287</td>\n",
       "      <td>10.257466</td>\n",
       "      <td>10.170721</td>\n",
       "      <td>0.211427</td>\n",
       "      <td>0.200465</td>\n",
       "      <td>0.208927</td>\n",
       "      <td>4371.682632</td>\n",
       "      <td>7987.922925</td>\n",
       "      <td>2859.242228</td>\n",
       "    </tr>\n",
       "    <tr>\n",
       "      <th>min</th>\n",
       "      <td>16.000000</td>\n",
       "      <td>16.000000</td>\n",
       "      <td>16.000000</td>\n",
       "      <td>0.000000</td>\n",
       "      <td>0.000000</td>\n",
       "      <td>0.000000</td>\n",
       "      <td>0.000000</td>\n",
       "      <td>0.000000</td>\n",
       "      <td>0.000000</td>\n",
       "    </tr>\n",
       "    <tr>\n",
       "      <th>25%</th>\n",
       "      <td>25.000000</td>\n",
       "      <td>24.000000</td>\n",
       "      <td>25.000000</td>\n",
       "      <td>1.000000</td>\n",
       "      <td>1.000000</td>\n",
       "      <td>1.000000</td>\n",
       "      <td>0.000000</td>\n",
       "      <td>0.000000</td>\n",
       "      <td>0.000000</td>\n",
       "    </tr>\n",
       "    <tr>\n",
       "      <th>50%</th>\n",
       "      <td>30.000000</td>\n",
       "      <td>30.000000</td>\n",
       "      <td>30.000000</td>\n",
       "      <td>1.000000</td>\n",
       "      <td>1.000000</td>\n",
       "      <td>1.000000</td>\n",
       "      <td>0.000000</td>\n",
       "      <td>0.000000</td>\n",
       "      <td>0.000000</td>\n",
       "    </tr>\n",
       "    <tr>\n",
       "      <th>75%</th>\n",
       "      <td>38.000000</td>\n",
       "      <td>38.000000</td>\n",
       "      <td>38.000000</td>\n",
       "      <td>1.000000</td>\n",
       "      <td>1.000000</td>\n",
       "      <td>1.000000</td>\n",
       "      <td>0.000000</td>\n",
       "      <td>0.000000</td>\n",
       "      <td>0.000000</td>\n",
       "    </tr>\n",
       "    <tr>\n",
       "      <th>max</th>\n",
       "      <td>99.000000</td>\n",
       "      <td>99.000000</td>\n",
       "      <td>99.000000</td>\n",
       "      <td>1.000000</td>\n",
       "      <td>1.000000</td>\n",
       "      <td>1.000000</td>\n",
       "      <td>129870.000000</td>\n",
       "      <td>486330.000000</td>\n",
       "      <td>81796.000000</td>\n",
       "    </tr>\n",
       "  </tbody>\n",
       "</table>\n",
       "</div>"
      ],
      "text/plain": [
       "          age_test       age_c1       age_c2  gender_test    gender_c1  \\\n",
       "count  4308.000000  4340.000000  4264.000000  4308.000000  4340.000000   \n",
       "mean     31.889276    32.095392    32.046201     0.953110     0.958065   \n",
       "std      10.245287    10.257466    10.170721     0.211427     0.200465   \n",
       "min      16.000000    16.000000    16.000000     0.000000     0.000000   \n",
       "25%      25.000000    24.000000    25.000000     1.000000     1.000000   \n",
       "50%      30.000000    30.000000    30.000000     1.000000     1.000000   \n",
       "75%      38.000000    38.000000    38.000000     1.000000     1.000000   \n",
       "max      99.000000    99.000000    99.000000     1.000000     1.000000   \n",
       "\n",
       "         gender_c2   revenue_test     revenue_c1    revenue_c2  \n",
       "count  4264.000000    4308.000000    4340.000000   4264.000000  \n",
       "mean      0.954268     534.080316     594.761982    450.384146  \n",
       "std       0.208927    4371.682632    7987.922925   2859.242228  \n",
       "min       0.000000       0.000000       0.000000      0.000000  \n",
       "25%       1.000000       0.000000       0.000000      0.000000  \n",
       "50%       1.000000       0.000000       0.000000      0.000000  \n",
       "75%       1.000000       0.000000       0.000000      0.000000  \n",
       "max       1.000000  129870.000000  486330.000000  81796.000000  "
      ]
     },
     "execution_count": 14,
     "metadata": {},
     "output_type": "execute_result"
    }
   ],
   "source": [
    "# посчитаем описательную статистику по трём переменным для каждой группы\n",
    "stat_users = users_test[['age', 'gender', 'total_revenue']] \\\n",
    "                    .describe() \\\n",
    "                    .rename(columns={'age': 'age_test',\n",
    "                                     'gender': 'gender_test',\n",
    "                                     'total_revenue': 'revenue_test'}) \\\n",
    "             .merge(users_c1[['age', 'gender', 'total_revenue']] \\\n",
    "                    .describe() \\\n",
    "                    .rename(columns={'age': 'age_c1',\n",
    "                                     'gender': 'gender_c1',\n",
    "                                     'total_revenue': 'revenue_c1'}), left_index=True, right_index=True) \\\n",
    "             .merge(users_c2[['age', 'gender', 'total_revenue']] \\\n",
    "                    .describe() \\\n",
    "                    .rename(columns={'age': 'age_c2',\n",
    "                                     'gender': 'gender_c2',\n",
    "                                     'total_revenue': 'revenue_c2'}), left_index=True, right_index=True) \\\n",
    "             [['age_test', 'age_c1', 'age_c2', \n",
    "                  'gender_test', 'gender_c1', 'gender_c2', \n",
    "                  'revenue_test', 'revenue_c1', 'revenue_c2']]\n",
    "\n",
    "stat_users"
   ]
  },
  {
   "cell_type": "markdown",
   "metadata": {},
   "source": [
    "* Как видно из описательной статистики, средний возраст для трёх групп примерно одинаковый и составляет приблизительно 32 года (медиана равна 30)\n",
    "* На удивление, доля женщин в трёх выборках не превышает 4%\n",
    "* ARPU для трёх выборок отличается - об этом подробнее в блоке A/B тестирвоания. Но уже судя по описательной статистики можно сделать вывод о ненормальности распределения нормированной выручки в силу большого стандратного отклонения (std) и сильных выбросов (max)."
   ]
  },
  {
   "cell_type": "code",
   "execution_count": 15,
   "metadata": {},
   "outputs": [
    {
     "data": {
      "text/html": [
       "<div>\n",
       "<style scoped>\n",
       "    .dataframe tbody tr th:only-of-type {\n",
       "        vertical-align: middle;\n",
       "    }\n",
       "\n",
       "    .dataframe tbody tr th {\n",
       "        vertical-align: top;\n",
       "    }\n",
       "\n",
       "    .dataframe thead th {\n",
       "        text-align: right;\n",
       "    }\n",
       "</style>\n",
       "<table border=\"1\" class=\"dataframe\">\n",
       "  <thead>\n",
       "    <tr style=\"text-align: right;\">\n",
       "      <th></th>\n",
       "      <th>country</th>\n",
       "      <th>percentage_test</th>\n",
       "      <th>percentage_c1</th>\n",
       "      <th>percentage_c2</th>\n",
       "    </tr>\n",
       "  </thead>\n",
       "  <tbody>\n",
       "    <tr>\n",
       "      <th>0</th>\n",
       "      <td>United States of America</td>\n",
       "      <td>33.658310</td>\n",
       "      <td>33.894009</td>\n",
       "      <td>34.849906</td>\n",
       "    </tr>\n",
       "    <tr>\n",
       "      <th>1</th>\n",
       "      <td>Argentina</td>\n",
       "      <td>9.192201</td>\n",
       "      <td>8.963134</td>\n",
       "      <td>9.310507</td>\n",
       "    </tr>\n",
       "    <tr>\n",
       "      <th>2</th>\n",
       "      <td>France</td>\n",
       "      <td>8.333333</td>\n",
       "      <td>8.525346</td>\n",
       "      <td>8.818011</td>\n",
       "    </tr>\n",
       "    <tr>\n",
       "      <th>3</th>\n",
       "      <td>Italy</td>\n",
       "      <td>7.497679</td>\n",
       "      <td>7.788018</td>\n",
       "      <td>6.871482</td>\n",
       "    </tr>\n",
       "    <tr>\n",
       "      <th>4</th>\n",
       "      <td>Spain</td>\n",
       "      <td>6.987001</td>\n",
       "      <td>7.880184</td>\n",
       "      <td>7.270169</td>\n",
       "    </tr>\n",
       "  </tbody>\n",
       "</table>\n",
       "</div>"
      ],
      "text/plain": [
       "                    country  percentage_test  percentage_c1  percentage_c2\n",
       "0  United States of America        33.658310      33.894009      34.849906\n",
       "1                 Argentina         9.192201       8.963134       9.310507\n",
       "2                    France         8.333333       8.525346       8.818011\n",
       "3                     Italy         7.497679       7.788018       6.871482\n",
       "4                     Spain         6.987001       7.880184       7.270169"
      ]
     },
     "execution_count": 15,
     "metadata": {},
     "output_type": "execute_result"
    }
   ],
   "source": [
    "# посмотрим распределение по странам для трёх групп\n",
    "country_users = users_test \\\n",
    "                    .country \\\n",
    "                    .value_counts(normalize=True) \\\n",
    "                    .to_frame() \\\n",
    "                    .mul(100) \\\n",
    "                    .reset_index() \\\n",
    "                    .rename(columns={'index': 'country', 'country': 'percentage_test'}) \\\n",
    "                .merge(users_c1 \n",
    "                    .country \n",
    "                    .value_counts(normalize=True) \n",
    "                    .to_frame() \n",
    "                    .mul(100)\n",
    "                    .reset_index() \n",
    "                    .rename(columns={'index': 'country', 'country': 'percentage_c1'}), on='country', how='outer') \\\n",
    "                .merge(users_c2 \n",
    "                    .country \n",
    "                    .value_counts(normalize=True) \n",
    "                    .to_frame() \n",
    "                    .mul(100)\n",
    "                    .reset_index() \n",
    "                    .rename(columns={'index': 'country', 'country': 'percentage_c2'}), on='country', how='outer') \n",
    "\n",
    "country_users.head()"
   ]
  },
  {
   "cell_type": "markdown",
   "metadata": {},
   "source": [
    "Пользователи из США оказались наиболее многочисленной группой для всех трёх выборок (34-35% от общего числа пользователей в выборках). В целом, доля пользователей из представленных топ-5 стран для каждой выборки примерно одинакова (максимальная разница не превышает 1%)."
   ]
  },
  {
   "cell_type": "code",
   "execution_count": 16,
   "metadata": {},
   "outputs": [
    {
     "name": "stdout",
     "output_type": "stream",
     "text": [
      "Всего в трёх выборках представлены пользователи из 72 стран.\n"
     ]
    }
   ],
   "source": [
    "print('Всего в трёх выборках представлены пользователи из', country_users.shape[0], 'стран.')"
   ]
  },
  {
   "cell_type": "code",
   "execution_count": 17,
   "metadata": {},
   "outputs": [
    {
     "data": {
      "text/html": [
       "<div>\n",
       "<style scoped>\n",
       "    .dataframe tbody tr th:only-of-type {\n",
       "        vertical-align: middle;\n",
       "    }\n",
       "\n",
       "    .dataframe tbody tr th {\n",
       "        vertical-align: top;\n",
       "    }\n",
       "\n",
       "    .dataframe thead th {\n",
       "        text-align: right;\n",
       "    }\n",
       "</style>\n",
       "<table border=\"1\" class=\"dataframe\">\n",
       "  <thead>\n",
       "    <tr style=\"text-align: right;\">\n",
       "      <th></th>\n",
       "      <th>country</th>\n",
       "      <th>percentage_test</th>\n",
       "      <th>percentage_c1</th>\n",
       "      <th>percentage_c2</th>\n",
       "    </tr>\n",
       "  </thead>\n",
       "  <tbody>\n",
       "    <tr>\n",
       "      <th>40</th>\n",
       "      <td>Brazil</td>\n",
       "      <td>0.023213</td>\n",
       "      <td>NaN</td>\n",
       "      <td>NaN</td>\n",
       "    </tr>\n",
       "    <tr>\n",
       "      <th>14</th>\n",
       "      <td>Switzerland</td>\n",
       "      <td>0.812442</td>\n",
       "      <td>0.967742</td>\n",
       "      <td>0.820826</td>\n",
       "    </tr>\n",
       "    <tr>\n",
       "      <th>22</th>\n",
       "      <td>Morocco</td>\n",
       "      <td>0.069638</td>\n",
       "      <td>NaN</td>\n",
       "      <td>0.117261</td>\n",
       "    </tr>\n",
       "    <tr>\n",
       "      <th>57</th>\n",
       "      <td>Sweden</td>\n",
       "      <td>NaN</td>\n",
       "      <td>0.023041</td>\n",
       "      <td>NaN</td>\n",
       "    </tr>\n",
       "    <tr>\n",
       "      <th>65</th>\n",
       "      <td>Malaysia</td>\n",
       "      <td>NaN</td>\n",
       "      <td>NaN</td>\n",
       "      <td>0.023452</td>\n",
       "    </tr>\n",
       "  </tbody>\n",
       "</table>\n",
       "</div>"
      ],
      "text/plain": [
       "        country  percentage_test  percentage_c1  percentage_c2\n",
       "40       Brazil         0.023213            NaN            NaN\n",
       "14  Switzerland         0.812442       0.967742       0.820826\n",
       "22      Morocco         0.069638            NaN       0.117261\n",
       "57       Sweden              NaN       0.023041            NaN\n",
       "65     Malaysia              NaN            NaN       0.023452"
      ]
     },
     "execution_count": 17,
     "metadata": {},
     "output_type": "execute_result"
    }
   ],
   "source": [
    "# посмотрим случайные пять строк из списка стран\n",
    "country_users.sample(5)"
   ]
  },
  {
   "cell_type": "markdown",
   "metadata": {},
   "source": [
    "Как видим, не все страны одновременно присутствуют во всех трёх выборках, однако доля граждан из таких стран очень мала."
   ]
  },
  {
   "cell_type": "markdown",
   "metadata": {},
   "source": [
    "## Какой тип продукта приносит больше всего выручки?"
   ]
  },
  {
   "cell_type": "code",
   "execution_count": 18,
   "metadata": {},
   "outputs": [
    {
     "data": {
      "image/png": "[encoded data removed]",
      "text/plain": [
       "<Figure size 842.4x595.44 with 3 Axes>"
      ]
     },
     "metadata": {},
     "output_type": "display_data"
    }
   ],
   "source": [
    "fig, ax = plt.subplots(1, 3, constrained_layout = True)\n",
    "\n",
    "ticks = [0, 300000, 600000, 900000]\n",
    "\n",
    "# строим график для тестовой группы\n",
    "sns.barplot(data=transactions_test, \n",
    "            x='product_type', \n",
    "            y='revenue', \n",
    "            estimator=sum, \n",
    "            order=transactions_test\n",
    "                  .groupby('product_type')\n",
    "                  .agg({'revenue': 'sum'})\n",
    "                  .sort_values('revenue', ascending=False)\n",
    "                  .reset_index()\n",
    "                  ['product_type'],\n",
    "            palette=\"flare\",\n",
    "            ax=ax[0])\n",
    "ax[0].tick_params(axis='x', rotation=45)\n",
    "ax[0].set_title('test_group')\n",
    "ax[0].set_yticks(ticks)\n",
    "ax[0].set_ylim(0, 1200000)\n",
    "\n",
    "# строим график для первой контрольной группы\n",
    "sns.barplot(data=transactions_c1, \n",
    "            x='product_type', \n",
    "            y='revenue', \n",
    "            estimator=sum, \n",
    "            order=transactions_c1\n",
    "                  .groupby('product_type')\n",
    "                  .agg({'revenue': 'sum'})\n",
    "                  .sort_values('revenue', ascending=False)\n",
    "                  .reset_index()\n",
    "                  ['product_type'],\n",
    "            palette=\"flare\",\n",
    "            ax=ax[1])\n",
    "ax[1].tick_params(axis='x', rotation=45)\n",
    "ax[1].set_title('control1_group')\n",
    "ax[1].set_yticks(ticks)\n",
    "ax[1].set_ylim(0, 1200000)\n",
    "\n",
    "# строим график для второй контрольной группы\n",
    "sns.barplot(data=transactions_c2, \n",
    "            x='product_type', \n",
    "            y='revenue', \n",
    "            estimator=sum, \n",
    "            order=transactions_c2\n",
    "                  .groupby('product_type')\n",
    "                  .agg({'revenue': 'sum'})\n",
    "                  .sort_values('revenue', ascending=False)\n",
    "                  .reset_index()\n",
    "                  ['product_type'],\n",
    "            palette=\"flare\",\n",
    "            ax=ax[2])\n",
    "ax[2].tick_params(axis='x', rotation=45)\n",
    "ax[2].set_title('control2_group')\n",
    "ax[2].set_yticks(ticks)\n",
    "ax[2].set_ylim(0, 1200000)\n",
    "\n",
    "plt.show()"
   ]
  },
  {
   "cell_type": "markdown",
   "metadata": {},
   "source": [
    "Судя по графикам, наибольшую выручку компании приносит подписка без пробного периода (premium_no_trial). С подпиской за внутреннюю валюту (coins) дела обстоят инетреснее: в первой контрольной группе этот тип продукта лидирует по суммарной выручке, а в тестовой и второй контрольной группе занимает лишь третью позицию. Вероятно, в данном случае не совсем корректно отработала система сплитования. Но об этом в следующем блоке!"
   ]
  },
  {
   "cell_type": "code",
   "execution_count": 19,
   "metadata": {},
   "outputs": [
    {
     "name": "stdout",
     "output_type": "stream",
     "text": [
      "Доля пользователей с действующей премиум подпиской\n",
      " в первой контрольной группе = 4.4 % \n",
      " во второй контрольной группе = 4.5 % \n",
      " в тестовой группе = 3.6 %\n"
     ]
    }
   ],
   "source": [
    "# посчитаем долю пользователей с действующей подпиской для трёх групп\n",
    "print('Доля пользователей с действующей премиум подпиской\\n в первой контрольной группе =',\n",
    "      round((users_c1.is_premium.count()/users_c1.uid.nunique())*100, 1),\n",
    "      '%',\n",
    "      '\\n во второй контрольной группе =',\n",
    "      round((users_c2.is_premium.count()/users_c2.uid.nunique())*100, 1),\n",
    "      '%',\n",
    "      '\\n в тестовой группе =',\n",
    "      round((users_test.is_premium.count()/users_test.uid.nunique())*100, 1),\n",
    "      '%')"
   ]
  },
  {
   "cell_type": "markdown",
   "metadata": {},
   "source": [
    "## А что со временем? "
   ]
  },
  {
   "cell_type": "code",
   "execution_count": 20,
   "metadata": {},
   "outputs": [
    {
     "data": {
      "text/html": [
       "<div>\n",
       "<style scoped>\n",
       "    .dataframe tbody tr th:only-of-type {\n",
       "        vertical-align: middle;\n",
       "    }\n",
       "\n",
       "    .dataframe tbody tr th {\n",
       "        vertical-align: top;\n",
       "    }\n",
       "\n",
       "    .dataframe thead th {\n",
       "        text-align: right;\n",
       "    }\n",
       "</style>\n",
       "<table border=\"1\" class=\"dataframe\">\n",
       "  <thead>\n",
       "    <tr style=\"text-align: right;\">\n",
       "      <th></th>\n",
       "      <th>paid_at_test</th>\n",
       "      <th>paid_at_c1</th>\n",
       "      <th>paid_at_c2</th>\n",
       "    </tr>\n",
       "  </thead>\n",
       "  <tbody>\n",
       "    <tr>\n",
       "      <th>count</th>\n",
       "      <td>273</td>\n",
       "      <td>377</td>\n",
       "      <td>328</td>\n",
       "    </tr>\n",
       "    <tr>\n",
       "      <th>unique</th>\n",
       "      <td>258</td>\n",
       "      <td>335</td>\n",
       "      <td>309</td>\n",
       "    </tr>\n",
       "    <tr>\n",
       "      <th>top</th>\n",
       "      <td>2017-10-22 22:08:00</td>\n",
       "      <td>2017-10-16 02:08:00</td>\n",
       "      <td>2017-10-23 20:17:00</td>\n",
       "    </tr>\n",
       "    <tr>\n",
       "      <th>freq</th>\n",
       "      <td>4</td>\n",
       "      <td>5</td>\n",
       "      <td>3</td>\n",
       "    </tr>\n",
       "    <tr>\n",
       "      <th>first</th>\n",
       "      <td>2017-01-11 04:37:00</td>\n",
       "      <td>2016-12-14 16:16:00</td>\n",
       "      <td>2017-01-11 05:34:00</td>\n",
       "    </tr>\n",
       "    <tr>\n",
       "      <th>last</th>\n",
       "      <td>2017-12-11 22:06:00</td>\n",
       "      <td>2017-12-11 21:57:00</td>\n",
       "      <td>2017-12-11 23:28:00</td>\n",
       "    </tr>\n",
       "  </tbody>\n",
       "</table>\n",
       "</div>"
      ],
      "text/plain": [
       "               paid_at_test           paid_at_c1           paid_at_c2\n",
       "count                   273                  377                  328\n",
       "unique                  258                  335                  309\n",
       "top     2017-10-22 22:08:00  2017-10-16 02:08:00  2017-10-23 20:17:00\n",
       "freq                      4                    5                    3\n",
       "first   2017-01-11 04:37:00  2016-12-14 16:16:00  2017-01-11 05:34:00\n",
       "last    2017-12-11 22:06:00  2017-12-11 21:57:00  2017-12-11 23:28:00"
      ]
     },
     "execution_count": 20,
     "metadata": {},
     "output_type": "execute_result"
    }
   ],
   "source": [
    "# посмотрим описательную статистику по датам оплат \n",
    "date_summary = transactions_test \\\n",
    "                        .describe(include='datetime') \\\n",
    "                        ['paid_at'] \\\n",
    "                        .to_frame() \\\n",
    "                        .rename(columns={'paid_at': 'paid_at_test'}) \\\n",
    "               .merge(transactions_c1 \n",
    "                        .describe(include='datetime') \n",
    "                        ['paid_at'] \n",
    "                        .to_frame() \n",
    "                        .rename(columns={'paid_at': 'paid_at_c1'}),\n",
    "                        left_index=True, right_index=True) \\\n",
    "               .merge(transactions_c2 \n",
    "                        .describe(include='datetime') \n",
    "                        ['paid_at'] \n",
    "                        .to_frame() \n",
    "                        .rename(columns={'paid_at': 'paid_at_c2'}),\n",
    "                        left_index=True, right_index=True)\n",
    "\n",
    "date_summary"
   ]
  },
  {
   "cell_type": "markdown",
   "metadata": {},
   "source": [
    "Как мы видим, первая и последняя дата оплаты той или иной услуги отличается для трёх выборок, а поскольку мы хотим в дальнейшем сравнивать эти группы, то имеет смысл обозначить одинаковую фиксированную дату начала и завершения эксперимента."
   ]
  },
  {
   "cell_type": "code",
   "execution_count": 21,
   "metadata": {},
   "outputs": [
    {
     "name": "stdout",
     "output_type": "stream",
     "text": [
      "Временем старта эксперимента будем считать 2017-01-11 05:34:00 \n",
      "Временем завершения - 2017-12-11 21:57:00\n"
     ]
    }
   ],
   "source": [
    "print('Временем старта эксперимента будем считать', \n",
    "      date_summary.loc['first'].max(),  \n",
    "      '\\nВременем завершения -',\n",
    "      date_summary.loc['last'].min())"
   ]
  },
  {
   "cell_type": "markdown",
   "metadata": {},
   "source": [
    "## Something went wrong..."
   ]
  },
  {
   "cell_type": "code",
   "execution_count": 22,
   "metadata": {},
   "outputs": [
    {
     "data": {
      "text/html": [
       "<div>\n",
       "<style scoped>\n",
       "    .dataframe tbody tr th:only-of-type {\n",
       "        vertical-align: middle;\n",
       "    }\n",
       "\n",
       "    .dataframe tbody tr th {\n",
       "        vertical-align: top;\n",
       "    }\n",
       "\n",
       "    .dataframe thead th {\n",
       "        text-align: right;\n",
       "    }\n",
       "</style>\n",
       "<table border=\"1\" class=\"dataframe\">\n",
       "  <thead>\n",
       "    <tr style=\"text-align: right;\">\n",
       "      <th></th>\n",
       "      <th>uid</th>\n",
       "      <th>country</th>\n",
       "      <th>joined_at</th>\n",
       "      <th>paid_at</th>\n",
       "      <th>revenue</th>\n",
       "      <th>payment_id</th>\n",
       "      <th>from_page</th>\n",
       "      <th>product_type</th>\n",
       "    </tr>\n",
       "  </thead>\n",
       "  <tbody>\n",
       "    <tr>\n",
       "      <th>11</th>\n",
       "      <td>891861048</td>\n",
       "      <td>Canada</td>\n",
       "      <td>2017-10-26 02:55:00</td>\n",
       "      <td>2017-10-11 19:00:00</td>\n",
       "      <td>3588</td>\n",
       "      <td>68</td>\n",
       "      <td>none</td>\n",
       "      <td>premium_no_trial</td>\n",
       "    </tr>\n",
       "    <tr>\n",
       "      <th>20</th>\n",
       "      <td>891806280</td>\n",
       "      <td>United States of America</td>\n",
       "      <td>2017-10-27 08:56:00</td>\n",
       "      <td>2017-03-11 10:57:00</td>\n",
       "      <td>8242</td>\n",
       "      <td>147</td>\n",
       "      <td>trial_vip_popup</td>\n",
       "      <td>trial_premium</td>\n",
       "    </tr>\n",
       "    <tr>\n",
       "      <th>24</th>\n",
       "      <td>891786216</td>\n",
       "      <td>Spain</td>\n",
       "      <td>2017-10-27 18:20:00</td>\n",
       "      <td>2017-03-11 20:20:00</td>\n",
       "      <td>12818</td>\n",
       "      <td>147</td>\n",
       "      <td>trial_vip_popup</td>\n",
       "      <td>trial_premium</td>\n",
       "    </tr>\n",
       "    <tr>\n",
       "      <th>25</th>\n",
       "      <td>892057347</td>\n",
       "      <td>France</td>\n",
       "      <td>2017-10-21 23:15:00</td>\n",
       "      <td>2017-08-11 01:56:00</td>\n",
       "      <td>1209</td>\n",
       "      <td>19</td>\n",
       "      <td>none</td>\n",
       "      <td>coins</td>\n",
       "    </tr>\n",
       "    <tr>\n",
       "      <th>36</th>\n",
       "      <td>891589239</td>\n",
       "      <td>Italy</td>\n",
       "      <td>2017-10-31 14:16:00</td>\n",
       "      <td>2017-09-11 15:44:00</td>\n",
       "      <td>6305</td>\n",
       "      <td>19</td>\n",
       "      <td>empty_likes</td>\n",
       "      <td>coins</td>\n",
       "    </tr>\n",
       "  </tbody>\n",
       "</table>\n",
       "</div>"
      ],
      "text/plain": [
       "          uid                   country           joined_at  \\\n",
       "11  891861048                    Canada 2017-10-26 02:55:00   \n",
       "20  891806280  United States of America 2017-10-27 08:56:00   \n",
       "24  891786216                     Spain 2017-10-27 18:20:00   \n",
       "25  892057347                    France 2017-10-21 23:15:00   \n",
       "36  891589239                     Italy 2017-10-31 14:16:00   \n",
       "\n",
       "               paid_at  revenue  payment_id        from_page      product_type  \n",
       "11 2017-10-11 19:00:00     3588          68             none  premium_no_trial  \n",
       "20 2017-03-11 10:57:00     8242         147  trial_vip_popup     trial_premium  \n",
       "24 2017-03-11 20:20:00    12818         147  trial_vip_popup     trial_premium  \n",
       "25 2017-08-11 01:56:00     1209          19             none             coins  \n",
       "36 2017-09-11 15:44:00     6305          19      empty_likes             coins  "
      ]
     },
     "execution_count": 22,
     "metadata": {},
     "output_type": "execute_result"
    }
   ],
   "source": [
    "# проверим, правильно ли логируются даты\n",
    "transactions_test \\\n",
    "    .query('joined_at > paid_at') \\\n",
    "    .head()"
   ]
  },
  {
   "cell_type": "markdown",
   "metadata": {},
   "source": [
    "Как видим, в некоторых строках с транзакциями пользователей неправильно записались даты регистрации/оплаты услуги. Возможно, в приложении произошёл какой-то кратковременный сбой, поскольку таких случаев не много."
   ]
  },
  {
   "cell_type": "code",
   "execution_count": 23,
   "metadata": {},
   "outputs": [
    {
     "name": "stdout",
     "output_type": "stream",
     "text": [
      "В тестовых транзакциях аномальных строк с датами: 47 \n",
      "В контрольных (1) транзакциях аномальных строк с датами: 55 \n",
      "В контрольных (2) транзакциях аномальных строк с датами: 60\n"
     ]
    }
   ],
   "source": [
    "print('В тестовых транзакциях аномальных строк с датами:', \n",
    "      transactions_test.query('joined_at > paid_at').shape[0],\n",
    "      '\\nВ контрольных (1) транзакциях аномальных строк с датами:', \n",
    "      transactions_c1.query('joined_at > paid_at').shape[0],\n",
    "      '\\nВ контрольных (2) транзакциях аномальных строк с датами:', \n",
    "      transactions_c2.query('joined_at > paid_at').shape[0])"
   ]
  },
  {
   "cell_type": "markdown",
   "metadata": {},
   "source": [
    "Ну что ж, отлично! С данными познакомились, теперь пора переходить к самому главному - анализу результатов эксперимента."
   ]
  },
  {
   "cell_type": "markdown",
   "metadata": {},
   "source": [
    "# Какие метрики использовать для нашего A/A/B эксперимента?"
   ]
  },
  {
   "cell_type": "markdown",
   "metadata": {},
   "source": [
    "Я считаю, что наиболее правильно оценить успешность данного эксперимента нам помогут следующие три метрики: \n",
    "* **ARPU** (Average Revenue Per User), поскольку она нам покажет насколько все наши пользователи стали, в среднем, больше платить\n",
    "* **ARPPU** (Average Revenue Per Paying User), поскольку проводится эксперимент, направленный непосредственно на наиболее активную часть пользователей, которая пользуется платными возможностями приложения, увеличивая тем самым выручку компании\n",
    "* **Conversion rate** (конверсия в подписку), поскольку повышение стоиомости подписки (как и любого другого продукта) это достаточно рискованный шаг, который с большой вероятностью вызовет негативную реакцию у некоторых пользователей вплоть до \"отписки\". Поэтому необходимо очень внимательно смотреть, чтобы конверсия не падала."
   ]
  },
  {
   "cell_type": "markdown",
   "metadata": {},
   "source": [
    "# A/A, или проверка качества системы сплитования"
   ]
  },
  {
   "cell_type": "markdown",
   "metadata": {},
   "source": [
    "Перед тем как непосредственно присутпить к А/Б тесту, нам необходимо убедиться в том, что наша система сплитования работает исправно - то есть средние значения интересующей нас метрики для двух контрольных групп должны быть примерно равны. Если этого не сделать, то может возникнуть такая ситуация, когда А/Б тест показал статистически значимые различия не из-за эффекта от эксперимента, а по причине поломки системы сплитования. Соответственно, могут быть сделаны неправильные выводы, которые приведут к потери прибыли компании."
   ]
  },
  {
   "cell_type": "markdown",
   "metadata": {},
   "source": [
    "## Подготовка данных"
   ]
  },
  {
   "cell_type": "code",
   "execution_count": 24,
   "metadata": {},
   "outputs": [],
   "source": [
    "# считаем выручку с каждого платящего пользователя за нужный период\n",
    "control_1_revenue_per_paying_user =  transactions_c1 \\\n",
    "                            .query('\"2017-01-11 05:34:00\" < paid_at < \"2017-12-11 21:57:00\"') \\\n",
    "                            .groupby('uid') \\\n",
    "                            .agg({'revenue': 'sum'})\n",
    "\n",
    "control_2_revenue_per_paying_user =  transactions_c2 \\\n",
    "                            .query('\"2017-01-11 05:34:00\" < paid_at < \"2017-12-11 21:57:00\"') \\\n",
    "                            .groupby('uid') \\\n",
    "                            .agg({'revenue': 'sum'})\n",
    "\n",
    "# сразу сделаем это и для тестовой группы\n",
    "test_revenue_per_paying_user =  transactions_test \\\n",
    "                            .query('\"2017-01-11 05:34:00\" < paid_at < \"2017-12-11 21:57:00\"') \\\n",
    "                            .groupby('uid') \\\n",
    "                            .agg({'revenue': 'sum'})"
   ]
  },
  {
   "cell_type": "code",
   "execution_count": 25,
   "metadata": {},
   "outputs": [],
   "source": [
    "# джойним с общими таблицами о всех пользователях\n",
    "control_1 =  users_c1.merge(control_1_revenue_per_paying_user, on='uid', how='left')\n",
    "control_2 =  users_c2.merge(control_2_revenue_per_paying_user, on='uid', how='left')\n",
    "\n",
    "# сразу сделаем это и для тестовый группы \n",
    "test =  users_test.merge(test_revenue_per_paying_user, on='uid', how='left')"
   ]
  },
  {
   "cell_type": "code",
   "execution_count": 26,
   "metadata": {},
   "outputs": [],
   "source": [
    "# после джойна у неплатящих пользователей в столбце revenue получился nan\n",
    "# заменим его на 0, чтобы можно было проводить математические операции\n",
    "control_1.revenue = control_1.revenue.fillna(0)\n",
    "control_2.revenue = control_2.revenue.fillna(0)\n",
    "\n",
    "test.revenue = test.revenue.fillna(0)"
   ]
  },
  {
   "cell_type": "markdown",
   "metadata": {},
   "source": [
    "## Распределение нормированной выручки"
   ]
  },
  {
   "cell_type": "code",
   "execution_count": 27,
   "metadata": {},
   "outputs": [
    {
     "data": {
      "image/png": "[encoded data removed]",
      "text/plain": [
       "<Figure size 842.4x595.44 with 2 Axes>"
      ]
     },
     "metadata": {},
     "output_type": "display_data"
    }
   ],
   "source": [
    "fig, ax = plt.subplots(1, 2, constrained_layout=True)\n",
    "\n",
    "# строим гистограмму распределения для первой контрольной группы\n",
    "sns.histplot(control_1.revenue, stat='probability', ax=ax[0])\n",
    "ax[0].set_title('control_1')\n",
    "ax[0].tick_params(axis='x', rotation=45)\n",
    "\n",
    "# строим гистограмму распределения для второй контрольной группы\n",
    "sns.histplot(control_2.revenue, stat='probability', ax=ax[1])\n",
    "ax[1].set_title('control_2')\n",
    "ax[1].tick_params(axis='x', rotation=45)\n",
    "\n",
    "plt.show()"
   ]
  },
  {
   "cell_type": "markdown",
   "metadata": {},
   "source": [
    "По графикам видно, что распределение нормированной выручки, как минимум, не является нормальным и сильно скошено вправо. Однако, большое количество неплатящих пользователей (иными словами, нулей на графике) не позволяет в силу масштаба увидеть и другие значения, чтобы более точно оценить распределения (на левом графике эта проблема наиболее острая), поэтому давайте еще построим графики только для платящих пользователей."
   ]
  },
  {
   "cell_type": "code",
   "execution_count": 28,
   "metadata": {},
   "outputs": [
    {
     "data": {
      "image/png": "[encoded data removed]",
      "text/plain": [
       "<Figure size 842.4x595.44 with 2 Axes>"
      ]
     },
     "metadata": {},
     "output_type": "display_data"
    }
   ],
   "source": [
    "fig, ax = plt.subplots(1, 2, constrained_layout=True)\n",
    "\n",
    "# строим гистограмму распределения для первой контрольной группы\n",
    "sns.histplot(control_1.query('revenue > 0').revenue, stat='probability', ax=ax[0])\n",
    "ax[0].set_title('control_1')\n",
    "ax[0].tick_params(axis='x', rotation=45)\n",
    "\n",
    "# строим гистограмму распределения для второй контрольной группы\n",
    "sns.histplot(control_2.query('revenue > 0').revenue, stat='probability', ax=ax[1])\n",
    "ax[1].set_title('control_2')\n",
    "ax[1].tick_params(axis='x', rotation=45)\n",
    "\n",
    "plt.show()"
   ]
  },
  {
   "cell_type": "markdown",
   "metadata": {},
   "source": [
    "Действительно, эти графики уже намного более удобные для визуального анализа распределения. Видно, что распределение как первой контрольной группы, так и второй контрольной группы не является нормальным, оно асимметричное (скошено вправо). \n",
    "\n",
    "И хотя это еще не является поводом отказаться от использования Т-теста для сравнения средних, но вот наличие сильных выбросов как в первой, так и во второй выборке уже является весомым аргументом отказаться от критерия Стьюдента. Тест Манна-Уитни в данной ситуации также не является оптимальным решением, поскольку он достаточно плохо работает с большим количеством повторяющихся значений в выборке (в нашем случае это нули - неплатящие пользователи, на предыдущих графиках). По этой причине, для сравнения средних между двумя выборками будем использовать метод бутстрап, который не является таким требовательным к форме данных."
   ]
  },
  {
   "cell_type": "code",
   "execution_count": 29,
   "metadata": {},
   "outputs": [],
   "source": [
    "# функция для бутстрапа\n",
    "def get_bootstrap(\n",
    "                  data_column_1, # числовые значения первой выборки\n",
    "                  data_column_2, # числовые значения второй выборки\n",
    "                  statistic, # интересующая нас статистика\n",
    "                  draw=False, # нарисовать распределение\n",
    "                  boot_it = 1000, # количество бутстрэп-подвыборок\n",
    "                  bootstrap_conf_level = 0.95 # уровень значимости\n",
    "                  ):\n",
    "    \n",
    "    boot_data = []\n",
    "    \n",
    "    for i in range(boot_it): # извлекаем подвыборки\n",
    "        samples_1 = data_column_1 \\\n",
    "                    .sample(len(data_column_1), replace = True) \\\n",
    "                    .values\n",
    "        \n",
    "        samples_2 = data_column_2 \\\n",
    "                    .sample(len(data_column_1), replace = True) \\\n",
    "                    .values\n",
    "        \n",
    "        # считаем разницу статистик между двумя подвыборками и сохраняем в список\n",
    "        boot_data.append(statistic(samples_1)-statistic(samples_2)) \n",
    "        \n",
    "    pd_boot_data = pd.DataFrame(boot_data)\n",
    "        \n",
    "    left_quant = (1 - bootstrap_conf_level)/2\n",
    "    right_quant = 1 - (1 - bootstrap_conf_level) / 2\n",
    "    quants = pd_boot_data.quantile([left_quant, right_quant])\n",
    "        \n",
    "    p_1 = stats.norm.cdf(x = 0, \n",
    "                         loc = np.mean(boot_data), \n",
    "                         scale = np.std(boot_data))\n",
    "    \n",
    "    p_2 = stats.norm.cdf(x = 0, \n",
    "                         loc = -np.mean(boot_data), \n",
    "                         scale = np.std(boot_data))\n",
    "    \n",
    "    p_value = min(p_1, p_2) * 2\n",
    "\n",
    "    # Визуализация\n",
    "    if draw:\n",
    "        _, _, bars = plt.hist(pd_boot_data[0], bins = 50)\n",
    "        for bar in bars:\n",
    "            if bar.get_x() <= quants.iloc[0][0] or bar.get_x() >= quants.iloc[1][0]:\n",
    "                bar.set_facecolor('red')\n",
    "            else: \n",
    "                bar.set_facecolor('grey')\n",
    "                bar.set_edgecolor('black')\n",
    "\n",
    "        plt.style.use('ggplot')\n",
    "        plt.vlines(quants,ymin=0,ymax=50,linestyle='--')\n",
    "        plt.xlabel('boot_data')\n",
    "        plt.ylabel('frequency')\n",
    "        plt.title(\"Histogram of boot_data\")\n",
    "        plt.show()\n",
    "    \n",
    "    return {\"boot_data\": boot_data, \n",
    "            \"quants\": quants, \n",
    "            \"p_value\": p_value}"
   ]
  },
  {
   "cell_type": "markdown",
   "metadata": {},
   "source": [
    "Качество системы сплитования будем проверять с помощью многократных симуляций:\n",
    "* Извлекаем две случайные подвыборки одного размера из первой и второй контрольной группы соответственно\n",
    "* Используем бутстрап для оценки стат.значимости различий средних в двух выборках (Н0: средние двух выборок не различаются статистически значимо)\n",
    "* Повторяем это n-ное количество раз, записывая каждый раз p-value\n",
    "* Считаем количество ложноположительных случаев (когда Т-тест показал p-value < 0.05)\n",
    "* Если доля ложноположительных случаев от общего числа симуляций получилась меньше уровня значимости (0.05), то делаем вывод, что наша система сплитования работает исправно. В противном случае, нужно искать причину поломки \"сплитовалки\"."
   ]
  },
  {
   "cell_type": "code",
   "execution_count": 30,
   "metadata": {},
   "outputs": [
    {
     "data": {
      "application/vnd.jupyter.widget-view+json": {
       "model_id": "3028d0cdf1c94428807cc20caf0d8397",
       "version_major": 2,
       "version_minor": 0
      },
      "text/plain": [
       "HBox(children=(FloatProgress(value=0.0, max=1000.0), HTML(value='')))"
      ]
     },
     "metadata": {},
     "output_type": "display_data"
    },
    {
     "name": "stdout",
     "output_type": "stream",
     "text": [
      "\n"
     ]
    },
    {
     "data": {
      "image/png": "[encoded data removed]",
      "text/plain": [
       "<Figure size 842.4x595.44 with 1 Axes>"
      ]
     },
     "metadata": {},
     "output_type": "display_data"
    },
    {
     "name": "stdout",
     "output_type": "stream",
     "text": [
      "Бинго! Система сплитования работает исправно!\n"
     ]
    }
   ],
   "source": [
    "simulations = 1000 # количество симуляций\n",
    "sample_size = 30  # размер подвыборки\n",
    "results = []\n",
    "\n",
    "# запускаем симуляции A/A теста\n",
    "for i in tqdm(range(simulations)):\n",
    "    sample1 = control_1.revenue.sample(sample_size, replace = False)\n",
    "    sample2 = control_2.revenue.sample(sample_size, replace = False)\n",
    "    results.append(get_bootstrap(sample1, sample2, statistic=np.mean)['p_value']) # сохраняем pvalue в список\n",
    "\n",
    "plt.hist(results, bins = 50)\n",
    "plt.style.use('ggplot')\n",
    "plt.xlabel('pvalues')\n",
    "plt.ylabel('frequency')\n",
    "plt.title(\"Histogram of bootstrap A/A simulations \")\n",
    "plt.show()\n",
    "\n",
    "# проверяем, что количество ложноположительных случаев не превышает альфа\n",
    "if (sum(np.array(results) <0.05) / simulations) < 0.05:\n",
    "    print('Бинго! Система сплитования работает исправно!')\n",
    "else:\n",
    "    print('Упс, что-то пошло не так... Нужно проверить систему сплитования.')\n",
    "    "
   ]
  },
  {
   "cell_type": "markdown",
   "metadata": {},
   "source": [
    "Итак, по метрике revenue сплит прошёл успешно, теперь посморим всё ли хорошо и с конверсией в подписку."
   ]
  },
  {
   "cell_type": "code",
   "execution_count": 31,
   "metadata": {},
   "outputs": [],
   "source": [
    "# создаем бинарную перемнную для пользоваталей, где 1 - пользователь купил подписку, 0 - не купил\n",
    "test['conversion'] = test['is_premium'].apply(lambda x: 1 if x == 1 else 0)\n",
    "control_1['conversion'] = control_1['is_premium'].apply(lambda x: 1 if x == 1 else 0)\n",
    "control_2['conversion'] = control_2['is_premium'].apply(lambda x: 1 if x == 1 else 0)"
   ]
  },
  {
   "cell_type": "markdown",
   "metadata": {},
   "source": [
    "Для начала, проверим равенство дисперий между двумя контрольными группами (чтобы оценить возожность использования параметрических тестов). Н0: дисперсии между группами не различаются статистически значимо. "
   ]
  },
  {
   "cell_type": "code",
   "execution_count": 32,
   "metadata": {},
   "outputs": [
    {
     "data": {
      "text/plain": [
       "LeveneResult(statistic=0.01551626073675317, pvalue=0.9008714163221571)"
      ]
     },
     "execution_count": 32,
     "metadata": {},
     "output_type": "execute_result"
    }
   ],
   "source": [
    "# Запускаем тест Левена о равенстве дисперсий двух выборок\n",
    "stats.levene(control_1.conversion, control_2.conversion)"
   ]
  },
  {
   "cell_type": "markdown",
   "metadata": {},
   "source": [
    "Как видим, мы не можем отвергнуть нулевую гипотезу в данном случае, что в купе с относительно большими выборками даёт нам право использовать параметрические тесты для оценки статистической значимости различий средних."
   ]
  },
  {
   "cell_type": "markdown",
   "metadata": {},
   "source": [
    "Качество системы сплитования, как и прежде, будем проверять с помощью многократных симуляций, однако в данном случае будем использовать z-test для сравнения средних двух выборок, поскольку для бинарных данных он дает более точные оценки, нежели t-test. Н0: средние двух выборок не различаются статистически значимо."
   ]
  },
  {
   "cell_type": "code",
   "execution_count": 33,
   "metadata": {},
   "outputs": [
    {
     "data": {
      "application/vnd.jupyter.widget-view+json": {
       "model_id": "ef1d51b9e6544da6a04427ec8b6f2060",
       "version_major": 2,
       "version_minor": 0
      },
      "text/plain": [
       "HBox(children=(FloatProgress(value=0.0, max=10000.0), HTML(value='')))"
      ]
     },
     "metadata": {},
     "output_type": "display_data"
    },
    {
     "name": "stdout",
     "output_type": "stream",
     "text": [
      "\n"
     ]
    },
    {
     "data": {
      "image/png": "[encoded data removed]",
      "text/plain": [
       "<Figure size 842.4x595.44 with 1 Axes>"
      ]
     },
     "metadata": {},
     "output_type": "display_data"
    },
    {
     "name": "stdout",
     "output_type": "stream",
     "text": [
      "Бинго! Система сплитования работает исправно!\n"
     ]
    }
   ],
   "source": [
    "simulations = 10000 # количество симуляций\n",
    "sample_size = 100  # размер подвыборки\n",
    "results = []\n",
    "\n",
    "# запускаем симуляции A/A теста\n",
    "for i in tqdm(range(simulations)):\n",
    "    sample1 = control_1.conversion.sample(sample_size, replace = False).values\n",
    "    sample2 = control_2.conversion.sample(sample_size, replace = False).values\n",
    "    results.append(ztest(sample1, sample2)[1]) # сохраняем pvalue в список\n",
    "\n",
    "plt.hist(results, bins = 50)\n",
    "plt.style.use('ggplot')\n",
    "plt.xlabel('pvalues')\n",
    "plt.ylabel('frequency')\n",
    "plt.title(\"Histogram of z-test A/A simulations \")\n",
    "plt.show()\n",
    "\n",
    "# проверяем, что количество ложноположительных случаев не превышает альфа\n",
    "if (sum(np.array(results) <0.05) / simulations) < 0.05:\n",
    "    print('Бинго! Система сплитования работает исправно!')\n",
    "else:\n",
    "    print('Упс, что-то пошло не так... Нужно проверить систему сплитования.')\n",
    "    "
   ]
  },
  {
   "cell_type": "markdown",
   "metadata": {},
   "source": [
    "Сплитование по конверсии также успешное, поэтому можем смело переходить к А/Б тестированию."
   ]
  },
  {
   "cell_type": "markdown",
   "metadata": {},
   "source": [
    "# A/B testing, or is our experiment worth it?"
   ]
  },
  {
   "cell_type": "markdown",
   "metadata": {},
   "source": [
    "Проанализируем, как в ходе эксперимента повели себя три метрики (ARPU, ARPPU, Conversion rate), чтобы оценить стоит ли всё-таки повышать стоимость подписки для всех пользователей."
   ]
  },
  {
   "cell_type": "markdown",
   "metadata": {},
   "source": [
    "## ARPU"
   ]
  },
  {
   "cell_type": "code",
   "execution_count": 34,
   "metadata": {},
   "outputs": [],
   "source": [
    "# объединяем две контрольные группы в одну\n",
    "control= pd.concat([control_1, control_2])"
   ]
  },
  {
   "cell_type": "code",
   "execution_count": 35,
   "metadata": {},
   "outputs": [
    {
     "name": "stdout",
     "output_type": "stream",
     "text": [
      "Размер контрольной группы = 8604\n",
      "Размер тестовой группы = 4308\n"
     ]
    }
   ],
   "source": [
    "print('Размер контрольной группы =', control.shape[0])\n",
    "print('Размер тестовой группы =', test.shape[0])"
   ]
  },
  {
   "cell_type": "code",
   "execution_count": 36,
   "metadata": {},
   "outputs": [
    {
     "data": {
      "image/png": "[encoded data removed]",
      "text/plain": [
       "<Figure size 842.4x595.44 with 2 Axes>"
      ]
     },
     "metadata": {},
     "output_type": "display_data"
    }
   ],
   "source": [
    "# посмотрим распределения\n",
    "fig, ax = plt.subplots(1, 2, constrained_layout=True)\n",
    "\n",
    "sns.histplot(control.revenue, stat='probability', ax=ax[0])\n",
    "ax[0].set_title('control_group')\n",
    "\n",
    "sns.histplot(test.revenue, stat='probability', ax=ax[1])\n",
    "ax[1].set_title('test_group')\n",
    "\n",
    "plt.show()"
   ]
  },
  {
   "cell_type": "markdown",
   "metadata": {},
   "source": [
    "Опять же, наличие сильных выбросов в данном случае не позволяет нам использовать критерий Стьюдента для проверки гипотезы о статистической значимости различий средних в двух выборках, а большое количество повторяющихся значений - не позволяет нам использовать тест Манна-Уитни, поэтому будем использовать для этой цели бутстрап. Н0: средние двух выборок не различаются статистически значимо. Мы же, в свою очередь, хотим отклонить нулевую гипотезу и принять альтернативную о том, что ARPU в следствие эксперимента статистически значимо увеличился."
   ]
  },
  {
   "cell_type": "code",
   "execution_count": 37,
   "metadata": {},
   "outputs": [
    {
     "data": {
      "image/png": "[encoded data removed]",
      "text/plain": [
       "<Figure size 842.4x595.44 with 1 Axes>"
      ]
     },
     "metadata": {},
     "output_type": "display_data"
    }
   ],
   "source": [
    "# применяем функцию бутстрап\n",
    "bs = get_bootstrap(control.revenue, test.revenue, statistic=np.mean, draw=True)"
   ]
  },
  {
   "cell_type": "code",
   "execution_count": 38,
   "metadata": {},
   "outputs": [
    {
     "data": {
      "text/html": [
       "<div>\n",
       "<style scoped>\n",
       "    .dataframe tbody tr th:only-of-type {\n",
       "        vertical-align: middle;\n",
       "    }\n",
       "\n",
       "    .dataframe tbody tr th {\n",
       "        vertical-align: top;\n",
       "    }\n",
       "\n",
       "    .dataframe thead th {\n",
       "        text-align: right;\n",
       "    }\n",
       "</style>\n",
       "<table border=\"1\" class=\"dataframe\">\n",
       "  <thead>\n",
       "    <tr style=\"text-align: right;\">\n",
       "      <th></th>\n",
       "      <th>0</th>\n",
       "    </tr>\n",
       "  </thead>\n",
       "  <tbody>\n",
       "    <tr>\n",
       "      <th>0.025</th>\n",
       "      <td>-165.736704</td>\n",
       "    </tr>\n",
       "    <tr>\n",
       "      <th>0.975</th>\n",
       "      <td>138.221359</td>\n",
       "    </tr>\n",
       "  </tbody>\n",
       "</table>\n",
       "</div>"
      ],
      "text/plain": [
       "                0\n",
       "0.025 -165.736704\n",
       "0.975  138.221359"
      ]
     },
     "execution_count": 38,
     "metadata": {},
     "output_type": "execute_result"
    }
   ],
   "source": [
    "bs['quants']"
   ]
  },
  {
   "cell_type": "code",
   "execution_count": 39,
   "metadata": {},
   "outputs": [
    {
     "data": {
      "text/plain": [
       "0.783378811902303"
      ]
     },
     "execution_count": 39,
     "metadata": {},
     "output_type": "execute_result"
    }
   ],
   "source": [
    "bs['p_value']"
   ]
  },
  {
   "cell_type": "markdown",
   "metadata": {},
   "source": [
    "Как видим, ноль попал в 95% доверительный интервал, поэтому, к сожалению, в данной ситуации мы не можем отвергнуть нулевую гипотезу об отсутсвии стат.значимого различия ARPU между тестом и контролем."
   ]
  },
  {
   "cell_type": "markdown",
   "metadata": {},
   "source": [
    "## ARPPU"
   ]
  },
  {
   "cell_type": "code",
   "execution_count": 40,
   "metadata": {},
   "outputs": [
    {
     "data": {
      "image/png": "[encoded data removed]",
      "text/plain": [
       "<Figure size 842.4x595.44 with 2 Axes>"
      ]
     },
     "metadata": {},
     "output_type": "display_data"
    }
   ],
   "source": [
    "# посмотрим распределения вырчуки для платящих пользователей\n",
    "fig, ax = plt.subplots(1, 2, constrained_layout=True)\n",
    "\n",
    "sns.histplot(control.query('revenue > 0').revenue, stat='probability', ax=ax[0])\n",
    "ax[0].set_title('control_group')\n",
    "\n",
    "sns.histplot(test.query('revenue > 0').revenue, stat='probability', ax=ax[1])\n",
    "ax[1].set_title('test_group')\n",
    "\n",
    "plt.show()"
   ]
  },
  {
   "cell_type": "markdown",
   "metadata": {},
   "source": [
    "Здесь ситуация схожая, как и в случае со всеми пользователями: наличие сильных выбросов не позволяет нам использовать критерий Стьюдента для проверки гипотезы о статистической значимости различий средних в двух выборках, поэтому будем использовать для этой цели бутстрап. Н0: средние двух выборок не различаются статистически значимо. Мы же, в свою очередь, хотим отклонить нулевую гипотезу и принять альтернативную о том, что ARPPU в следствие эксперимента статистически значимо увеличился."
   ]
  },
  {
   "cell_type": "code",
   "execution_count": 41,
   "metadata": {},
   "outputs": [
    {
     "data": {
      "image/png": "[encoded data removed]",
      "text/plain": [
       "<Figure size 842.4x595.44 with 1 Axes>"
      ]
     },
     "metadata": {},
     "output_type": "display_data"
    }
   ],
   "source": [
    "# применяем функцию бутстрап\n",
    "bs = get_bootstrap(control.query('revenue > 0').revenue, \n",
    "                   test.query('revenue > 0').revenue, \n",
    "                   statistic=np.mean, \n",
    "                   draw=True)"
   ]
  },
  {
   "cell_type": "code",
   "execution_count": 42,
   "metadata": {},
   "outputs": [
    {
     "data": {
      "text/html": [
       "<div>\n",
       "<style scoped>\n",
       "    .dataframe tbody tr th:only-of-type {\n",
       "        vertical-align: middle;\n",
       "    }\n",
       "\n",
       "    .dataframe tbody tr th {\n",
       "        vertical-align: top;\n",
       "    }\n",
       "\n",
       "    .dataframe thead th {\n",
       "        text-align: right;\n",
       "    }\n",
       "</style>\n",
       "<table border=\"1\" class=\"dataframe\">\n",
       "  <thead>\n",
       "    <tr style=\"text-align: right;\">\n",
       "      <th></th>\n",
       "      <th>0</th>\n",
       "    </tr>\n",
       "  </thead>\n",
       "  <tbody>\n",
       "    <tr>\n",
       "      <th>0.025</th>\n",
       "      <td>-7084.383800</td>\n",
       "    </tr>\n",
       "    <tr>\n",
       "      <th>0.975</th>\n",
       "      <td>-520.143867</td>\n",
       "    </tr>\n",
       "  </tbody>\n",
       "</table>\n",
       "</div>"
      ],
      "text/plain": [
       "                 0\n",
       "0.025 -7084.383800\n",
       "0.975  -520.143867"
      ]
     },
     "execution_count": 42,
     "metadata": {},
     "output_type": "execute_result"
    }
   ],
   "source": [
    "bs['quants']"
   ]
  },
  {
   "cell_type": "code",
   "execution_count": 43,
   "metadata": {},
   "outputs": [
    {
     "data": {
      "text/plain": [
       "0.016709222328047914"
      ]
     },
     "execution_count": 43,
     "metadata": {},
     "output_type": "execute_result"
    }
   ],
   "source": [
    "bs['p_value']"
   ]
  },
  {
   "cell_type": "markdown",
   "metadata": {},
   "source": [
    "Как видим, ноль не попал в 95% доверительный интервал, что говорит о статистической значимости различий средних в двух выборках (p-value, очевидно, также < 0.05)."
   ]
  },
  {
   "cell_type": "code",
   "execution_count": 44,
   "metadata": {},
   "outputs": [
    {
     "data": {
      "text/plain": [
       "34.11515318075691"
      ]
     },
     "execution_count": 44,
     "metadata": {},
     "output_type": "execute_result"
    }
   ],
   "source": [
    "# изменение ARPPU между тестом и контролем\n",
    "((test.query('revenue > 0').revenue.mean()\n",
    "  -\n",
    "  control.query('revenue > 0').revenue.mean())\n",
    "  /\n",
    "  control.query('revenue > 0').revenue.mean())*100"
   ]
  },
  {
   "cell_type": "markdown",
   "metadata": {},
   "source": [
    "Итак, хорошая новость! В тестовой группе ARPPU получился примерно на 34% выше, чем в контрольной группе (при этом, результат статистически значимый)."
   ]
  },
  {
   "cell_type": "markdown",
   "metadata": {},
   "source": [
    "## CR"
   ]
  },
  {
   "cell_type": "markdown",
   "metadata": {},
   "source": [
    "Для начала, проверим равенство дисперий между контрольной и тестовой группой. Н0: дисперсии между группами не различаются статистически значимо."
   ]
  },
  {
   "cell_type": "code",
   "execution_count": 45,
   "metadata": {},
   "outputs": [
    {
     "data": {
      "text/plain": [
       "LeveneResult(statistic=4.66670984613786, pvalue=0.030771130488176052)"
      ]
     },
     "execution_count": 45,
     "metadata": {},
     "output_type": "execute_result"
    }
   ],
   "source": [
    "# запускаем тест Левена\n",
    "stats.levene(test.conversion, control.conversion)"
   ]
  },
  {
   "cell_type": "markdown",
   "metadata": {},
   "source": [
    "Тест Левена показал, что на 5% уровне значимости дисперсии между группами статистически значимо различаются. Выборки у нас относительно большие, переменная - бинарная, поэтому в данной ситуации для оценки статистической значимости различий средних в двух выборках будем использовать z-test с поправкой на неравную дисперсию в выборках. Н0: средние двух выборок не различаются статистически значимо. В данной ситуации мы не хотим отвергать нулевую гипотезу о равенсте конверсий между тестом и контролем, поскольку всё же есть вероятность того, что повышение стоимости подписки приведёт к потере лояльности пользователей и снижению конверсии."
   ]
  },
  {
   "cell_type": "code",
   "execution_count": 46,
   "metadata": {},
   "outputs": [
    {
     "name": "stdout",
     "output_type": "stream",
     "text": [
      "z: -2.2300010000756667, p-value: 0.02574737648441344\n"
     ]
    }
   ],
   "source": [
    "# запускаем z-test\n",
    "cm = sms.CompareMeans(sms.DescrStatsW(test.conversion), sms.DescrStatsW(control.conversion))\n",
    "z, pval = cm.ztest_ind(usevar='unequal')\n",
    "print(f'z: {z}, p-value: {pval}')"
   ]
  },
  {
   "cell_type": "markdown",
   "metadata": {},
   "source": [
    "Опасения подтвердились, и на 5% уровне значимости мы отвергаем нулевую гипотезу и принимаем альтернативную о том, что конверсия в подписку статистически значимо ралзичается между тестом и контролем."
   ]
  },
  {
   "cell_type": "code",
   "execution_count": 47,
   "metadata": {},
   "outputs": [
    {
     "data": {
      "text/plain": [
       "-18.12985010582049"
      ]
     },
     "execution_count": 47,
     "metadata": {},
     "output_type": "execute_result"
    }
   ],
   "source": [
    "# изменение конверсии в подписку между тестом и контролем\n",
    "((test.conversion.mean()-control.conversion.mean())/control.conversion.mean())*100"
   ]
  },
  {
   "cell_type": "markdown",
   "metadata": {},
   "source": [
    "Итак, повышение стомости подписки снизило конверсию приблизительно на 18% (результат статистически значимый)."
   ]
  },
  {
   "cell_type": "markdown",
   "metadata": {},
   "source": [
    "# Выкатываем обновление на всех пользователей?"
   ]
  },
  {
   "cell_type": "markdown",
   "metadata": {},
   "source": [
    "Исходя из проведенного выше анализа, я бы не сказал, что эксперимент прошёл успешно - мы не получили стат. значимого увеличения ARPU, ARPPU показал статистически значимый прирост (+34%), но при этом на 18% упала конверсия в подписку.\n",
    "\n",
    "Однако, что если разные группы пользователей реагируют на повышение стоимости подписки по-разному? Например, молодые люди отнеслиль к этому спокойно, а люди в возрасте, наоборот, отреагировали очень плохо, отказавшись от продления уже более дорогой платной подписки, и тогда лучше не выкатывать обновление на более возрастную группу пользователей, чтобы не потерять прибыль и клиентов? Для прояснения таких моментов есть смысл разбить всех пользователей на несколько групп (по тому или иному признаку) и посмотреть одинаково ли они отреагировали на изменение стоимости подписки (выводы будем делать на основании ARPPU и конверсии - для нас важно, чтобы стат. значимо вырос ARPPU и при это не просела конверсия статистически значимо).\n",
    "\n",
    "Для проведения данного анализа поочередно разобём пользователей на группы по следующим показателям: \n",
    "* **возраст** (гипотеза заключается в том, что молодые люди склонны к новым знакомствам больше, чем люди в возрасте, и как следствие, повышение стоимости подписки для первых не имеет такой же критический вес, как для вторых)\n",
    "* **коэффициент привлекательности** (гипотеза заключается в том, что люди с низким коэффициентом привлекательности получают мало лайков, и как следствие, редко находят себе пару. А поскольку платная подписка в дейтинговом приложении зачастую означает возможность ставить бесконечное количество лайков, видеть лайкнувших тебя людей и чаще попадать в рекомендации, то повышение стоимости платной подписки для таких пользователей не столько критично, как для пользователей с высоким коэффициентом привлекательности, которые смогут и без платной подписки быстро найти себе пару)\n",
    "* **страна** (гипотеза заключается в том, что для пользователей США повышение стоимости подписки не так критично, как для остальных пользователей, в силу развитой экономики и высокой оплаты труда)\n",
    "* Было бы также интересно разделить пользователей по **полу**, но поскольку из описательной статистики мы выяснили, что доля женщин в группах не превышает 5% (а в тестовой группе вообще всего 2 женщины, которые пользуются платными возможностями приложения), то делать какие-либо статистические выводы на таких данных было бы преступлением...\n",
    "\n",
    "Итак, начнём!"
   ]
  },
  {
   "cell_type": "code",
   "execution_count": 48,
   "metadata": {},
   "outputs": [
    {
     "data": {
      "text/html": [
       "<div>\n",
       "<style scoped>\n",
       "    .dataframe tbody tr th:only-of-type {\n",
       "        vertical-align: middle;\n",
       "    }\n",
       "\n",
       "    .dataframe tbody tr th {\n",
       "        vertical-align: top;\n",
       "    }\n",
       "\n",
       "    .dataframe thead th {\n",
       "        text-align: right;\n",
       "    }\n",
       "</style>\n",
       "<table border=\"1\" class=\"dataframe\">\n",
       "  <thead>\n",
       "    <tr style=\"text-align: right;\">\n",
       "      <th></th>\n",
       "      <th>uid</th>\n",
       "      <th>revenue</th>\n",
       "      <th>age</th>\n",
       "      <th>attraction_coeff</th>\n",
       "      <th>country</th>\n",
       "      <th>conversion</th>\n",
       "      <th>group</th>\n",
       "    </tr>\n",
       "  </thead>\n",
       "  <tbody>\n",
       "    <tr>\n",
       "      <th>1191</th>\n",
       "      <td>891783804</td>\n",
       "      <td>0.0</td>\n",
       "      <td>31</td>\n",
       "      <td>750</td>\n",
       "      <td>Chile</td>\n",
       "      <td>0</td>\n",
       "      <td>test</td>\n",
       "    </tr>\n",
       "    <tr>\n",
       "      <th>1618</th>\n",
       "      <td>891249720</td>\n",
       "      <td>0.0</td>\n",
       "      <td>32</td>\n",
       "      <td>314</td>\n",
       "      <td>United Kingdom (Great Britain)</td>\n",
       "      <td>0</td>\n",
       "      <td>control</td>\n",
       "    </tr>\n",
       "    <tr>\n",
       "      <th>3245</th>\n",
       "      <td>891995145</td>\n",
       "      <td>27404.0</td>\n",
       "      <td>39</td>\n",
       "      <td>547</td>\n",
       "      <td>United States of America</td>\n",
       "      <td>0</td>\n",
       "      <td>test</td>\n",
       "    </tr>\n",
       "    <tr>\n",
       "      <th>3739</th>\n",
       "      <td>892005012</td>\n",
       "      <td>0.0</td>\n",
       "      <td>22</td>\n",
       "      <td>0</td>\n",
       "      <td>Portugal</td>\n",
       "      <td>0</td>\n",
       "      <td>control</td>\n",
       "    </tr>\n",
       "    <tr>\n",
       "      <th>3123</th>\n",
       "      <td>891367356</td>\n",
       "      <td>0.0</td>\n",
       "      <td>49</td>\n",
       "      <td>250</td>\n",
       "      <td>United States of America</td>\n",
       "      <td>0</td>\n",
       "      <td>control</td>\n",
       "    </tr>\n",
       "  </tbody>\n",
       "</table>\n",
       "</div>"
      ],
      "text/plain": [
       "            uid  revenue  age  attraction_coeff  \\\n",
       "1191  891783804      0.0   31               750   \n",
       "1618  891249720      0.0   32               314   \n",
       "3245  891995145  27404.0   39               547   \n",
       "3739  892005012      0.0   22                 0   \n",
       "3123  891367356      0.0   49               250   \n",
       "\n",
       "                             country  conversion    group  \n",
       "1191                           Chile           0     test  \n",
       "1618  United Kingdom (Great Britain)           0  control  \n",
       "3245        United States of America           0     test  \n",
       "3739                        Portugal           0  control  \n",
       "3123        United States of America           0  control  "
      ]
     },
     "execution_count": 48,
     "metadata": {},
     "output_type": "execute_result"
    }
   ],
   "source": [
    "# объединяем контрольную и тестовую группу в один датасет \n",
    "combined_df = pd.concat([control\n",
    "                        [['uid', 'revenue', 'age', 'attraction_coeff', 'country', 'conversion']]\n",
    "                        .assign(group = 'control'),\n",
    "                        test\n",
    "                        [['uid', 'revenue', 'age', 'attraction_coeff', 'country', 'conversion']]\n",
    "                        .assign(group = 'test')])\n",
    "\n",
    "combined_df.sample(5)"
   ]
  },
  {
   "cell_type": "markdown",
   "metadata": {},
   "source": [
    "## The younger, the better?"
   ]
  },
  {
   "cell_type": "code",
   "execution_count": 49,
   "metadata": {},
   "outputs": [],
   "source": [
    "# поделим пользователей на 3 группы по возрасту\n",
    "combined_df['age_group'] = pd.cut(combined_df.age, \n",
    "                                 bins=[18, 27, 35, 99], # границы разделения\n",
    "                                 labels=['junior', 'middle', 'senior'])"
   ]
  },
  {
   "cell_type": "code",
   "execution_count": 50,
   "metadata": {},
   "outputs": [
    {
     "data": {
      "text/plain": [
       "junior    4612\n",
       "senior    4105\n",
       "middle    3653\n",
       "Name: age_group, dtype: int64"
      ]
     },
     "execution_count": 50,
     "metadata": {},
     "output_type": "execute_result"
    }
   ],
   "source": [
    "# посмотрим на размер получившихся групп\n",
    "combined_df.age_group.value_counts()"
   ]
  },
  {
   "cell_type": "code",
   "execution_count": 51,
   "metadata": {},
   "outputs": [
    {
     "data": {
      "image/png": "[encoded data removed]",
      "text/plain": [
       "<Figure size 842.4x595.44 with 1 Axes>"
      ]
     },
     "metadata": {},
     "output_type": "display_data"
    }
   ],
   "source": [
    "# построим скрипичный график для трёх возрастных групп (paying users only)\n",
    "sns.violinplot(data=combined_df.query('revenue > 0'), x='age_group', y='revenue');"
   ]
  },
  {
   "cell_type": "markdown",
   "metadata": {},
   "source": [
    "Из графика видно, что распределения нормированной выручки для трёх возрастных групп (paying users only) не являются нормальными (скошены вправо) и имеют выбросы (в случае с наиболее молодой группой пользователей эта проблема наиболее острая). И как результат, мы не можем использовать в данном случае ANOVA для оценки статистической значимости различий средних между тремя выборками. В таком случае, прибегнем к его \"непараметрическому аналогу\" - критерию Краскелла-Уоллиса. Н0: средние ранги между тремя выборками статистически значимо не различаются. В данном случае, мы хотим отвергнуть нулевую гипотезу и принять альтернативную о том, что как минимум в двух группах средние ранги различаются стат.значимо, чтобы понять стоит ли дальше \"копать\" в этом направлении."
   ]
  },
  {
   "cell_type": "code",
   "execution_count": 52,
   "metadata": {},
   "outputs": [
    {
     "data": {
      "text/html": [
       "<div>\n",
       "<style scoped>\n",
       "    .dataframe tbody tr th:only-of-type {\n",
       "        vertical-align: middle;\n",
       "    }\n",
       "\n",
       "    .dataframe tbody tr th {\n",
       "        vertical-align: top;\n",
       "    }\n",
       "\n",
       "    .dataframe thead th {\n",
       "        text-align: right;\n",
       "    }\n",
       "</style>\n",
       "<table border=\"1\" class=\"dataframe\">\n",
       "  <thead>\n",
       "    <tr style=\"text-align: right;\">\n",
       "      <th></th>\n",
       "      <th>Source</th>\n",
       "      <th>ddof1</th>\n",
       "      <th>H</th>\n",
       "      <th>p-unc</th>\n",
       "    </tr>\n",
       "  </thead>\n",
       "  <tbody>\n",
       "    <tr>\n",
       "      <th>Kruskal</th>\n",
       "      <td>age_group</td>\n",
       "      <td>2</td>\n",
       "      <td>7.144617</td>\n",
       "      <td>0.028091</td>\n",
       "    </tr>\n",
       "  </tbody>\n",
       "</table>\n",
       "</div>"
      ],
      "text/plain": [
       "            Source  ddof1         H     p-unc\n",
       "Kruskal  age_group      2  7.144617  0.028091"
      ]
     },
     "execution_count": 52,
     "metadata": {},
     "output_type": "execute_result"
    }
   ],
   "source": [
    "pg.kruskal(data=combined_df.query('revenue > 0'), dv='revenue', between='age_group')"
   ]
  },
  {
   "cell_type": "markdown",
   "metadata": {},
   "source": [
    "Отлично! p-value < 0.05, значит, всё же есть смысл рассмотреть эти группы более детально."
   ]
  },
  {
   "cell_type": "code",
   "execution_count": 53,
   "metadata": {},
   "outputs": [
    {
     "data": {
      "image/png": "[encoded data removed]",
      "text/plain": [
       "<Figure size 842.4x595.44 with 1 Axes>"
      ]
     },
     "metadata": {},
     "output_type": "display_data"
    }
   ],
   "source": [
    "# отобразим средние с доверительными интервалами в разрезе двух групп (возраст и тест/контроль)\n",
    "sns.pointplot(x='group', y='revenue', hue='age_group', data=combined_df.query('revenue > 0'), capsize=.2, dodge=True);"
   ]
  },
  {
   "cell_type": "markdown",
   "metadata": {},
   "source": [
    "В силу достаточно проблемных распределений (выбросы), доверительные интервалы для средних значений получились достаточно широкими и поэтому очень сложно по графику сделать вывод о стат.значимости различий средних между выборками. Без парных сравнений средних здесь не обойтись!\n",
    "\n",
    "Для парных сравнений средних значений нормированной выручки между разными группами (paying users only) будем использовать непараметрический тест Манна-Уитни (в силу выбросов и небольших выборок). Н0: средние ранги между двумя группами не различаются статистиечски значимо. Мы же хотим отклонять нулевую гипотезу (особенно в рамках одной возрастной группы между тестом и контролем), чтобы убедиться, что та или иная возрастная группа стала приносить, в среднем, нам больше выручки."
   ]
  },
  {
   "cell_type": "code",
   "execution_count": 54,
   "metadata": {},
   "outputs": [],
   "source": [
    "# конкатенируем два фактора в один столбец\n",
    "combined_df['combination_of_factors'] = combined_df['group'] + '\\\\' + combined_df['age_group'].astype('string')"
   ]
  },
  {
   "cell_type": "code",
   "execution_count": 55,
   "metadata": {},
   "outputs": [
    {
     "data": {
      "text/html": [
       "<div>\n",
       "<style scoped>\n",
       "    .dataframe tbody tr th:only-of-type {\n",
       "        vertical-align: middle;\n",
       "    }\n",
       "\n",
       "    .dataframe tbody tr th {\n",
       "        vertical-align: top;\n",
       "    }\n",
       "\n",
       "    .dataframe thead th {\n",
       "        text-align: right;\n",
       "    }\n",
       "</style>\n",
       "<table border=\"1\" class=\"dataframe\">\n",
       "  <thead>\n",
       "    <tr style=\"text-align: right;\">\n",
       "      <th></th>\n",
       "      <th>Contrast</th>\n",
       "      <th>A</th>\n",
       "      <th>B</th>\n",
       "      <th>Paired</th>\n",
       "      <th>Parametric</th>\n",
       "      <th>U-val</th>\n",
       "      <th>alternative</th>\n",
       "      <th>p-unc</th>\n",
       "      <th>p-corr</th>\n",
       "      <th>p-adjust</th>\n",
       "      <th>hedges</th>\n",
       "    </tr>\n",
       "  </thead>\n",
       "  <tbody>\n",
       "    <tr>\n",
       "      <th>0</th>\n",
       "      <td>combination_of_factors</td>\n",
       "      <td>control\\junior</td>\n",
       "      <td>control\\middle</td>\n",
       "      <td>False</td>\n",
       "      <td>False</td>\n",
       "      <td>6580.5</td>\n",
       "      <td>two-sided</td>\n",
       "      <td>0.050162</td>\n",
       "      <td>0.501618</td>\n",
       "      <td>holm</td>\n",
       "      <td>0.038484</td>\n",
       "    </tr>\n",
       "    <tr>\n",
       "      <th>1</th>\n",
       "      <td>combination_of_factors</td>\n",
       "      <td>control\\junior</td>\n",
       "      <td>control\\senior</td>\n",
       "      <td>False</td>\n",
       "      <td>False</td>\n",
       "      <td>6625.5</td>\n",
       "      <td>two-sided</td>\n",
       "      <td>0.004039</td>\n",
       "      <td>0.048462</td>\n",
       "      <td>holm</td>\n",
       "      <td>0.057467</td>\n",
       "    </tr>\n",
       "    <tr>\n",
       "      <th>2</th>\n",
       "      <td>combination_of_factors</td>\n",
       "      <td>control\\junior</td>\n",
       "      <td>test\\junior</td>\n",
       "      <td>False</td>\n",
       "      <td>False</td>\n",
       "      <td>1849.0</td>\n",
       "      <td>two-sided</td>\n",
       "      <td>0.000131</td>\n",
       "      <td>0.001972</td>\n",
       "      <td>holm</td>\n",
       "      <td>-0.126388</td>\n",
       "    </tr>\n",
       "    <tr>\n",
       "      <th>3</th>\n",
       "      <td>combination_of_factors</td>\n",
       "      <td>control\\junior</td>\n",
       "      <td>test\\middle</td>\n",
       "      <td>False</td>\n",
       "      <td>False</td>\n",
       "      <td>2570.5</td>\n",
       "      <td>two-sided</td>\n",
       "      <td>0.000372</td>\n",
       "      <td>0.005210</td>\n",
       "      <td>holm</td>\n",
       "      <td>-0.045410</td>\n",
       "    </tr>\n",
       "    <tr>\n",
       "      <th>4</th>\n",
       "      <td>combination_of_factors</td>\n",
       "      <td>control\\junior</td>\n",
       "      <td>test\\senior</td>\n",
       "      <td>False</td>\n",
       "      <td>False</td>\n",
       "      <td>2661.0</td>\n",
       "      <td>two-sided</td>\n",
       "      <td>0.001699</td>\n",
       "      <td>0.022090</td>\n",
       "      <td>holm</td>\n",
       "      <td>-0.079599</td>\n",
       "    </tr>\n",
       "    <tr>\n",
       "      <th>5</th>\n",
       "      <td>combination_of_factors</td>\n",
       "      <td>control\\middle</td>\n",
       "      <td>control\\senior</td>\n",
       "      <td>False</td>\n",
       "      <td>False</td>\n",
       "      <td>5570.5</td>\n",
       "      <td>two-sided</td>\n",
       "      <td>0.508903</td>\n",
       "      <td>1.000000</td>\n",
       "      <td>holm</td>\n",
       "      <td>0.056635</td>\n",
       "    </tr>\n",
       "    <tr>\n",
       "      <th>6</th>\n",
       "      <td>combination_of_factors</td>\n",
       "      <td>control\\middle</td>\n",
       "      <td>test\\junior</td>\n",
       "      <td>False</td>\n",
       "      <td>False</td>\n",
       "      <td>1661.5</td>\n",
       "      <td>two-sided</td>\n",
       "      <td>0.039008</td>\n",
       "      <td>0.429086</td>\n",
       "      <td>holm</td>\n",
       "      <td>-0.384237</td>\n",
       "    </tr>\n",
       "    <tr>\n",
       "      <th>7</th>\n",
       "      <td>combination_of_factors</td>\n",
       "      <td>control\\middle</td>\n",
       "      <td>test\\middle</td>\n",
       "      <td>False</td>\n",
       "      <td>False</td>\n",
       "      <td>2232.5</td>\n",
       "      <td>two-sided</td>\n",
       "      <td>0.076512</td>\n",
       "      <td>0.575524</td>\n",
       "      <td>holm</td>\n",
       "      <td>-0.235412</td>\n",
       "    </tr>\n",
       "    <tr>\n",
       "      <th>8</th>\n",
       "      <td>combination_of_factors</td>\n",
       "      <td>control\\middle</td>\n",
       "      <td>test\\senior</td>\n",
       "      <td>False</td>\n",
       "      <td>False</td>\n",
       "      <td>2256.5</td>\n",
       "      <td>two-sided</td>\n",
       "      <td>0.132391</td>\n",
       "      <td>0.794343</td>\n",
       "      <td>holm</td>\n",
       "      <td>-0.279889</td>\n",
       "    </tr>\n",
       "    <tr>\n",
       "      <th>9</th>\n",
       "      <td>combination_of_factors</td>\n",
       "      <td>control\\senior</td>\n",
       "      <td>test\\junior</td>\n",
       "      <td>False</td>\n",
       "      <td>False</td>\n",
       "      <td>1876.0</td>\n",
       "      <td>two-sided</td>\n",
       "      <td>0.071941</td>\n",
       "      <td>0.575524</td>\n",
       "      <td>holm</td>\n",
       "      <td>-0.485891</td>\n",
       "    </tr>\n",
       "    <tr>\n",
       "      <th>10</th>\n",
       "      <td>combination_of_factors</td>\n",
       "      <td>control\\senior</td>\n",
       "      <td>test\\middle</td>\n",
       "      <td>False</td>\n",
       "      <td>False</td>\n",
       "      <td>2394.0</td>\n",
       "      <td>two-sided</td>\n",
       "      <td>0.056479</td>\n",
       "      <td>0.508315</td>\n",
       "      <td>holm</td>\n",
       "      <td>-0.349665</td>\n",
       "    </tr>\n",
       "    <tr>\n",
       "      <th>11</th>\n",
       "      <td>combination_of_factors</td>\n",
       "      <td>control\\senior</td>\n",
       "      <td>test\\senior</td>\n",
       "      <td>False</td>\n",
       "      <td>False</td>\n",
       "      <td>2483.5</td>\n",
       "      <td>two-sided</td>\n",
       "      <td>0.157703</td>\n",
       "      <td>0.794343</td>\n",
       "      <td>holm</td>\n",
       "      <td>-0.368152</td>\n",
       "    </tr>\n",
       "    <tr>\n",
       "      <th>12</th>\n",
       "      <td>combination_of_factors</td>\n",
       "      <td>test\\junior</td>\n",
       "      <td>test\\middle</td>\n",
       "      <td>False</td>\n",
       "      <td>False</td>\n",
       "      <td>1079.0</td>\n",
       "      <td>two-sided</td>\n",
       "      <td>0.922883</td>\n",
       "      <td>1.000000</td>\n",
       "      <td>holm</td>\n",
       "      <td>0.172555</td>\n",
       "    </tr>\n",
       "    <tr>\n",
       "      <th>13</th>\n",
       "      <td>combination_of_factors</td>\n",
       "      <td>test\\junior</td>\n",
       "      <td>test\\senior</td>\n",
       "      <td>False</td>\n",
       "      <td>False</td>\n",
       "      <td>1093.0</td>\n",
       "      <td>two-sided</td>\n",
       "      <td>0.711843</td>\n",
       "      <td>1.000000</td>\n",
       "      <td>holm</td>\n",
       "      <td>0.086441</td>\n",
       "    </tr>\n",
       "    <tr>\n",
       "      <th>14</th>\n",
       "      <td>combination_of_factors</td>\n",
       "      <td>test\\middle</td>\n",
       "      <td>test\\senior</td>\n",
       "      <td>False</td>\n",
       "      <td>False</td>\n",
       "      <td>1386.5</td>\n",
       "      <td>two-sided</td>\n",
       "      <td>0.691992</td>\n",
       "      <td>1.000000</td>\n",
       "      <td>holm</td>\n",
       "      <td>-0.076353</td>\n",
       "    </tr>\n",
       "  </tbody>\n",
       "</table>\n",
       "</div>"
      ],
      "text/plain": [
       "                  Contrast               A               B  Paired  \\\n",
       "0   combination_of_factors  control\\junior  control\\middle   False   \n",
       "1   combination_of_factors  control\\junior  control\\senior   False   \n",
       "2   combination_of_factors  control\\junior     test\\junior   False   \n",
       "3   combination_of_factors  control\\junior     test\\middle   False   \n",
       "4   combination_of_factors  control\\junior     test\\senior   False   \n",
       "5   combination_of_factors  control\\middle  control\\senior   False   \n",
       "6   combination_of_factors  control\\middle     test\\junior   False   \n",
       "7   combination_of_factors  control\\middle     test\\middle   False   \n",
       "8   combination_of_factors  control\\middle     test\\senior   False   \n",
       "9   combination_of_factors  control\\senior     test\\junior   False   \n",
       "10  combination_of_factors  control\\senior     test\\middle   False   \n",
       "11  combination_of_factors  control\\senior     test\\senior   False   \n",
       "12  combination_of_factors     test\\junior     test\\middle   False   \n",
       "13  combination_of_factors     test\\junior     test\\senior   False   \n",
       "14  combination_of_factors     test\\middle     test\\senior   False   \n",
       "\n",
       "    Parametric   U-val alternative     p-unc    p-corr p-adjust    hedges  \n",
       "0        False  6580.5   two-sided  0.050162  0.501618     holm  0.038484  \n",
       "1        False  6625.5   two-sided  0.004039  0.048462     holm  0.057467  \n",
       "2        False  1849.0   two-sided  0.000131  0.001972     holm -0.126388  \n",
       "3        False  2570.5   two-sided  0.000372  0.005210     holm -0.045410  \n",
       "4        False  2661.0   two-sided  0.001699  0.022090     holm -0.079599  \n",
       "5        False  5570.5   two-sided  0.508903  1.000000     holm  0.056635  \n",
       "6        False  1661.5   two-sided  0.039008  0.429086     holm -0.384237  \n",
       "7        False  2232.5   two-sided  0.076512  0.575524     holm -0.235412  \n",
       "8        False  2256.5   two-sided  0.132391  0.794343     holm -0.279889  \n",
       "9        False  1876.0   two-sided  0.071941  0.575524     holm -0.485891  \n",
       "10       False  2394.0   two-sided  0.056479  0.508315     holm -0.349665  \n",
       "11       False  2483.5   two-sided  0.157703  0.794343     holm -0.368152  \n",
       "12       False  1079.0   two-sided  0.922883  1.000000     holm  0.172555  \n",
       "13       False  1093.0   two-sided  0.711843  1.000000     holm  0.086441  \n",
       "14       False  1386.5   two-sided  0.691992  1.000000     holm -0.076353  "
      ]
     },
     "execution_count": 55,
     "metadata": {},
     "output_type": "execute_result"
    }
   ],
   "source": [
    "# проводим парные тесты Манна-Уитни с попарвкой p-value Хольма\n",
    "pg.pairwise_ttests(data=combined_df.query('revenue > 0'), \n",
    "                   dv='revenue', \n",
    "                   between='combination_of_factors', \n",
    "                   parametric=False, \n",
    "                   padjust='holm')"
   ]
  },
  {
   "cell_type": "markdown",
   "metadata": {},
   "source": [
    "Статистически значимые различия получились для следующих пар: \n",
    "\n",
    "1)control\\junior vs control\\senior\\\n",
    "**2)control\\junior vs test\\junior**\\\n",
    "3)control\\junior vs test\\middle\\\n",
    "4)control\\junior vs test\\senior\t\n",
    "\n",
    "Иными словами, статистически значимый эффект от эксперимента (по выручке) наблюдается только для самой молодой группы пользователей приложения. И это, с одной стороны, хорошая новость. Но что если у данной группы пользователей параллельно \"просели\" стат.значимо и другие важные метрики (например, конверсия)? Тогда уже не всё так хорошо. Давайте проверим! "
   ]
  },
  {
   "cell_type": "code",
   "execution_count": 56,
   "metadata": {},
   "outputs": [
    {
     "data": {
      "image/png": "[encoded data removed]",
      "text/plain": [
       "<Figure size 842.4x595.44 with 1 Axes>"
      ]
     },
     "metadata": {},
     "output_type": "display_data"
    }
   ],
   "source": [
    "# отобразим среднюю конверсию с доверительными интервалами в разрезе двух групп (возраст и тест/контроль)\n",
    "sns.pointplot(x='group', y='conversion', hue='age_group', data=combined_df, capsize=.2, dodge=True);"
   ]
  },
  {
   "cell_type": "markdown",
   "metadata": {},
   "source": [
    "В данном случае по графику уже можно сделать какие-то предположения о стат.значимости различий средних, и, к сожалению, эти предположения нас не радуют - веротянее всего, именно у молодой группы пользователей стат.значимо снизилась конверсия в подписку. Убедиться в этом нам поможет z-test. Н0: средние значения между группами не различаются статистически значимо. "
   ]
  },
  {
   "cell_type": "code",
   "execution_count": 57,
   "metadata": {},
   "outputs": [
    {
     "data": {
      "text/html": [
       "<div>\n",
       "<style scoped>\n",
       "    .dataframe tbody tr th:only-of-type {\n",
       "        vertical-align: middle;\n",
       "    }\n",
       "\n",
       "    .dataframe tbody tr th {\n",
       "        vertical-align: top;\n",
       "    }\n",
       "\n",
       "    .dataframe thead th {\n",
       "        text-align: right;\n",
       "    }\n",
       "</style>\n",
       "<table border=\"1\" class=\"dataframe\">\n",
       "  <thead>\n",
       "    <tr style=\"text-align: right;\">\n",
       "      <th></th>\n",
       "      <th>W</th>\n",
       "      <th>pval</th>\n",
       "      <th>equal_var</th>\n",
       "    </tr>\n",
       "  </thead>\n",
       "  <tbody>\n",
       "    <tr>\n",
       "      <th>levene</th>\n",
       "      <td>0.02185</td>\n",
       "      <td>0.978387</td>\n",
       "      <td>True</td>\n",
       "    </tr>\n",
       "  </tbody>\n",
       "</table>\n",
       "</div>"
      ],
      "text/plain": [
       "              W      pval  equal_var\n",
       "levene  0.02185  0.978387       True"
      ]
     },
     "execution_count": 57,
     "metadata": {},
     "output_type": "execute_result"
    }
   ],
   "source": [
    "# проверим равенство дисперсий между группами перед проведением z-теста \n",
    "# Н0: дисперсии между группами не различаются стат.значимо\n",
    "pg.homoscedasticity(data=combined_df, dv='conversion', group='age_group')"
   ]
  },
  {
   "cell_type": "markdown",
   "metadata": {},
   "source": [
    "Тест Левена показал, что мы не можем отвергнуть нулвеую гипотезу о равенстве дисперсий между группами. Отлично! Тогда можем смело запускать парные z-тесты (сделаем поправку Бонферонни, чтобы избежать проблемы множественных сравнений). "
   ]
  },
  {
   "cell_type": "code",
   "execution_count": 58,
   "metadata": {},
   "outputs": [
    {
     "data": {
      "text/html": [
       "<div>\n",
       "<style scoped>\n",
       "    .dataframe tbody tr th:only-of-type {\n",
       "        vertical-align: middle;\n",
       "    }\n",
       "\n",
       "    .dataframe tbody tr th {\n",
       "        vertical-align: top;\n",
       "    }\n",
       "\n",
       "    .dataframe thead th {\n",
       "        text-align: right;\n",
       "    }\n",
       "</style>\n",
       "<table border=\"1\" class=\"dataframe\">\n",
       "  <thead>\n",
       "    <tr style=\"text-align: right;\">\n",
       "      <th></th>\n",
       "      <th>A</th>\n",
       "      <th>B</th>\n",
       "      <th>p_alpha_Bonferonni</th>\n",
       "      <th>p_value</th>\n",
       "    </tr>\n",
       "  </thead>\n",
       "  <tbody>\n",
       "    <tr>\n",
       "      <th>0</th>\n",
       "      <td>control\\junior</td>\n",
       "      <td>test\\junior</td>\n",
       "      <td>0.016667</td>\n",
       "      <td>0.008282</td>\n",
       "    </tr>\n",
       "    <tr>\n",
       "      <th>1</th>\n",
       "      <td>control\\middle</td>\n",
       "      <td>test\\middle</td>\n",
       "      <td>0.016667</td>\n",
       "      <td>0.964301</td>\n",
       "    </tr>\n",
       "    <tr>\n",
       "      <th>2</th>\n",
       "      <td>control\\senior</td>\n",
       "      <td>test\\senior</td>\n",
       "      <td>0.016667</td>\n",
       "      <td>0.352360</td>\n",
       "    </tr>\n",
       "  </tbody>\n",
       "</table>\n",
       "</div>"
      ],
      "text/plain": [
       "                A            B  p_alpha_Bonferonni   p_value\n",
       "0  control\\junior  test\\junior            0.016667  0.008282\n",
       "1  control\\middle  test\\middle            0.016667  0.964301\n",
       "2  control\\senior  test\\senior            0.016667  0.352360"
      ]
     },
     "execution_count": 58,
     "metadata": {},
     "output_type": "execute_result"
    }
   ],
   "source": [
    "# выводим результаты z-тестов в датафрейм\n",
    "ztests_age = pd.DataFrame({'A': ['control\\\\junior', 'control\\\\middle', 'control\\\\senior'],\n",
    "                           'B': ['test\\\\junior', 'test\\\\middle', 'test\\\\senior'],\n",
    "                           'p_alpha_Bonferonni': [0.05/3, 0.05/3, 0.05/3], # поправка Бонферонни\n",
    "                           'p_value': [ztest(\n",
    "                                        combined_df\n",
    "                                       .query('group == \"control\" and age_group == \"junior\"').conversion, \n",
    "                                        combined_df\n",
    "                                       .query('group == \"test\" and age_group == \"junior\"').conversion)[1],\n",
    "                                       ztest(\n",
    "                                        combined_df\n",
    "                                       .query('group == \"control\" and age_group == \"middle\"').conversion, \n",
    "                                        combined_df\n",
    "                                       .query('group == \"test\" and age_group == \"middle\"').conversion)[1],\n",
    "                                       ztest(\n",
    "                                        combined_df\n",
    "                                       .query('group == \"control\" and age_group == \"senior\"').conversion, \n",
    "                                        combined_df\n",
    "                                       .query('group == \"test\" and age_group == \"senior\"').conversion)[1]]})\n",
    "ztests_age"
   ]
  },
  {
   "cell_type": "markdown",
   "metadata": {},
   "source": [
    "Итак, действительно, только у молодой группы пользователей стат.значимо снизилась конверсия в покупку, что делает вывод относительно повышение стоимости подписки для данной группы совесм не тривиальным. С одной стороны, эта группа пользователей, в среднем, стала больше давать выручки компании после повышения стоимости подписки (в отличии от других возрастных групп), но с другой стороны, этот эффект наблюдается, в том числе, за счёт значимого сокращения конверсии (что вполне логично, ведь у молодой группы пользователей денежный вопрос стоит достаточно остро). Исходя из всего вышесказанного, я считаю, что в долгосрочной перспективе такой шаг себя не окупит, поэтому попробуем проанализировать данные в другом разрезе (коэффициент привлекательности пользователя)."
   ]
  },
  {
   "cell_type": "markdown",
   "metadata": {},
   "source": [
    "## High attraction is good, or is it?"
   ]
  },
  {
   "cell_type": "code",
   "execution_count": 59,
   "metadata": {},
   "outputs": [
    {
     "data": {
      "text/plain": [
       "0.33    216.6\n",
       "0.66    410.2\n",
       "Name: attraction_coeff, dtype: float64"
      ]
     },
     "execution_count": 59,
     "metadata": {},
     "output_type": "execute_result"
    }
   ],
   "source": [
    "# посчитаем 33 и 66 перцентиль распределения attraction_coeff (paying users)\n",
    "combined_df.query('revenue > 0').attraction_coeff.quantile(q=[0.33, 0.66])"
   ]
  },
  {
   "cell_type": "code",
   "execution_count": 60,
   "metadata": {},
   "outputs": [],
   "source": [
    "# делим пользователей на 3 группы с помощью перцентилей\n",
    "combined_df['attr_coef_group'] = pd.cut(combined_df.attraction_coeff, \n",
    "                                 bins=[-1, 217, 410, 1000], \n",
    "                                 labels=['low', 'medium', 'high'])"
   ]
  },
  {
   "cell_type": "code",
   "execution_count": 61,
   "metadata": {},
   "outputs": [
    {
     "data": {
      "image/png": "[encoded data removed]",
      "text/plain": [
       "<Figure size 842.4x595.44 with 1 Axes>"
      ]
     },
     "metadata": {},
     "output_type": "display_data"
    }
   ],
   "source": [
    "# строим скрипичный график нормированной выручки для трёх групп (paying users)\n",
    "sns.violinplot(data=combined_df.query('revenue > 0'), x='attr_coef_group', y='revenue');"
   ]
  },
  {
   "cell_type": "markdown",
   "metadata": {},
   "source": [
    "Из графика опять же видно, что распределения нормированной выручки для трёх групп (paying users only) не являются нормальными (скошены вправо) и имеют выбросы. И как результат, мы не можем использовать в данном случае ANOVA для оценки статистической значимости различий средних между тремя выборками. В таком случае, прибегнем к его \"непараметрическому аналогу\" - критерию Краскелла-Уоллиса. Н0: средние ранги между тремя выборками статистически значимо не различаются. В данном случае, мы хотим отвергнуть нулевую гипотезу и принять альтернативную о том, что как минимум в двух группах средние ранги отличаются стат.значимо, чтобы понять стоит ли дальше \"копать\" в этом направлении."
   ]
  },
  {
   "cell_type": "code",
   "execution_count": 62,
   "metadata": {},
   "outputs": [
    {
     "data": {
      "text/html": [
       "<div>\n",
       "<style scoped>\n",
       "    .dataframe tbody tr th:only-of-type {\n",
       "        vertical-align: middle;\n",
       "    }\n",
       "\n",
       "    .dataframe tbody tr th {\n",
       "        vertical-align: top;\n",
       "    }\n",
       "\n",
       "    .dataframe thead th {\n",
       "        text-align: right;\n",
       "    }\n",
       "</style>\n",
       "<table border=\"1\" class=\"dataframe\">\n",
       "  <thead>\n",
       "    <tr style=\"text-align: right;\">\n",
       "      <th></th>\n",
       "      <th>Source</th>\n",
       "      <th>ddof1</th>\n",
       "      <th>H</th>\n",
       "      <th>p-unc</th>\n",
       "    </tr>\n",
       "  </thead>\n",
       "  <tbody>\n",
       "    <tr>\n",
       "      <th>Kruskal</th>\n",
       "      <td>attr_coef_group</td>\n",
       "      <td>2</td>\n",
       "      <td>9.077097</td>\n",
       "      <td>0.010689</td>\n",
       "    </tr>\n",
       "  </tbody>\n",
       "</table>\n",
       "</div>"
      ],
      "text/plain": [
       "                  Source  ddof1         H     p-unc\n",
       "Kruskal  attr_coef_group      2  9.077097  0.010689"
      ]
     },
     "execution_count": 62,
     "metadata": {},
     "output_type": "execute_result"
    }
   ],
   "source": [
    "pg.kruskal(data=combined_df.query('revenue > 0'), dv='revenue', between='attr_coef_group')"
   ]
  },
  {
   "cell_type": "markdown",
   "metadata": {},
   "source": [
    "Тест показал p-value < 0.05, значит, всё же есть смысл рассмотреть эти группы более детально."
   ]
  },
  {
   "cell_type": "code",
   "execution_count": 63,
   "metadata": {},
   "outputs": [
    {
     "data": {
      "image/png": "[encoded data removed]",
      "text/plain": [
       "<Figure size 842.4x595.44 with 1 Axes>"
      ]
     },
     "metadata": {},
     "output_type": "display_data"
    }
   ],
   "source": [
    "# отобразим средние с доверительными интервалами в разрезе двух групп (коэф. привлекательности и тест/контроль)\n",
    "sns.pointplot(x='group', \n",
    "              y='revenue', \n",
    "              hue='attr_coef_group', \n",
    "              data=combined_df.query('revenue > 0'), \n",
    "              capsize=.2, \n",
    "              dodge=True);"
   ]
  },
  {
   "cell_type": "markdown",
   "metadata": {},
   "source": [
    "Судя по графику, есть разница в ARPPU между тестом и контролем для пользователей со средним коэффициентом привлекательности. Для более точного ответа о статистической значимости различий средних прибегнем к парным непараметрическим тестам Манна-Уитни (в силу выбросов и небольших выборок). Н0: средние ранги между двумя группами не различаются статистиечски значимо. Мы же хотим отклонять нулевую гипотезу (особенно в рамках одной группы (attr_coef_group) между тестом и контролем), чтобы убедиться, что та или иная группа стала приносить, в среднем, нам больше выручки."
   ]
  },
  {
   "cell_type": "code",
   "execution_count": 64,
   "metadata": {},
   "outputs": [],
   "source": [
    "# конкатенируем два фактора в один столбец\n",
    "combined_df['combination_of_factors_2'] = combined_df['group'] + '\\\\' + combined_df['attr_coef_group'].astype('string')"
   ]
  },
  {
   "cell_type": "code",
   "execution_count": 65,
   "metadata": {},
   "outputs": [
    {
     "data": {
      "text/html": [
       "<div>\n",
       "<style scoped>\n",
       "    .dataframe tbody tr th:only-of-type {\n",
       "        vertical-align: middle;\n",
       "    }\n",
       "\n",
       "    .dataframe tbody tr th {\n",
       "        vertical-align: top;\n",
       "    }\n",
       "\n",
       "    .dataframe thead th {\n",
       "        text-align: right;\n",
       "    }\n",
       "</style>\n",
       "<table border=\"1\" class=\"dataframe\">\n",
       "  <thead>\n",
       "    <tr style=\"text-align: right;\">\n",
       "      <th></th>\n",
       "      <th>Contrast</th>\n",
       "      <th>A</th>\n",
       "      <th>B</th>\n",
       "      <th>Paired</th>\n",
       "      <th>Parametric</th>\n",
       "      <th>U-val</th>\n",
       "      <th>alternative</th>\n",
       "      <th>p-unc</th>\n",
       "      <th>p-corr</th>\n",
       "      <th>p-adjust</th>\n",
       "      <th>hedges</th>\n",
       "    </tr>\n",
       "  </thead>\n",
       "  <tbody>\n",
       "    <tr>\n",
       "      <th>0</th>\n",
       "      <td>combination_of_factors_2</td>\n",
       "      <td>control\\high</td>\n",
       "      <td>control\\low</td>\n",
       "      <td>False</td>\n",
       "      <td>False</td>\n",
       "      <td>7157.0</td>\n",
       "      <td>two-sided</td>\n",
       "      <td>0.148264</td>\n",
       "      <td>0.741320</td>\n",
       "      <td>holm</td>\n",
       "      <td>-0.126817</td>\n",
       "    </tr>\n",
       "    <tr>\n",
       "      <th>1</th>\n",
       "      <td>combination_of_factors_2</td>\n",
       "      <td>control\\high</td>\n",
       "      <td>control\\medium</td>\n",
       "      <td>False</td>\n",
       "      <td>False</td>\n",
       "      <td>6358.0</td>\n",
       "      <td>two-sided</td>\n",
       "      <td>0.030626</td>\n",
       "      <td>0.245009</td>\n",
       "      <td>holm</td>\n",
       "      <td>-0.131920</td>\n",
       "    </tr>\n",
       "    <tr>\n",
       "      <th>2</th>\n",
       "      <td>combination_of_factors_2</td>\n",
       "      <td>control\\high</td>\n",
       "      <td>test\\high</td>\n",
       "      <td>False</td>\n",
       "      <td>False</td>\n",
       "      <td>2684.0</td>\n",
       "      <td>two-sided</td>\n",
       "      <td>0.053877</td>\n",
       "      <td>0.323261</td>\n",
       "      <td>holm</td>\n",
       "      <td>-0.091793</td>\n",
       "    </tr>\n",
       "    <tr>\n",
       "      <th>3</th>\n",
       "      <td>combination_of_factors_2</td>\n",
       "      <td>control\\high</td>\n",
       "      <td>test\\low</td>\n",
       "      <td>False</td>\n",
       "      <td>False</td>\n",
       "      <td>1635.5</td>\n",
       "      <td>two-sided</td>\n",
       "      <td>0.000081</td>\n",
       "      <td>0.001129</td>\n",
       "      <td>holm</td>\n",
       "      <td>-0.483107</td>\n",
       "    </tr>\n",
       "    <tr>\n",
       "      <th>4</th>\n",
       "      <td>combination_of_factors_2</td>\n",
       "      <td>control\\high</td>\n",
       "      <td>test\\medium</td>\n",
       "      <td>False</td>\n",
       "      <td>False</td>\n",
       "      <td>1718.5</td>\n",
       "      <td>two-sided</td>\n",
       "      <td>0.000009</td>\n",
       "      <td>0.000130</td>\n",
       "      <td>holm</td>\n",
       "      <td>-0.689425</td>\n",
       "    </tr>\n",
       "    <tr>\n",
       "      <th>5</th>\n",
       "      <td>combination_of_factors_2</td>\n",
       "      <td>control\\low</td>\n",
       "      <td>control\\medium</td>\n",
       "      <td>False</td>\n",
       "      <td>False</td>\n",
       "      <td>7467.5</td>\n",
       "      <td>two-sided</td>\n",
       "      <td>0.485271</td>\n",
       "      <td>1.000000</td>\n",
       "      <td>holm</td>\n",
       "      <td>0.083263</td>\n",
       "    </tr>\n",
       "    <tr>\n",
       "      <th>6</th>\n",
       "      <td>combination_of_factors_2</td>\n",
       "      <td>control\\low</td>\n",
       "      <td>test\\high</td>\n",
       "      <td>False</td>\n",
       "      <td>False</td>\n",
       "      <td>3198.5</td>\n",
       "      <td>two-sided</td>\n",
       "      <td>0.496501</td>\n",
       "      <td>1.000000</td>\n",
       "      <td>holm</td>\n",
       "      <td>0.084951</td>\n",
       "    </tr>\n",
       "    <tr>\n",
       "      <th>7</th>\n",
       "      <td>combination_of_factors_2</td>\n",
       "      <td>control\\low</td>\n",
       "      <td>test\\low</td>\n",
       "      <td>False</td>\n",
       "      <td>False</td>\n",
       "      <td>1973.5</td>\n",
       "      <td>two-sided</td>\n",
       "      <td>0.002589</td>\n",
       "      <td>0.028478</td>\n",
       "      <td>holm</td>\n",
       "      <td>-0.034903</td>\n",
       "    </tr>\n",
       "    <tr>\n",
       "      <th>8</th>\n",
       "      <td>combination_of_factors_2</td>\n",
       "      <td>control\\low</td>\n",
       "      <td>test\\medium</td>\n",
       "      <td>False</td>\n",
       "      <td>False</td>\n",
       "      <td>2117.0</td>\n",
       "      <td>two-sided</td>\n",
       "      <td>0.000678</td>\n",
       "      <td>0.008818</td>\n",
       "      <td>holm</td>\n",
       "      <td>-0.198678</td>\n",
       "    </tr>\n",
       "    <tr>\n",
       "      <th>9</th>\n",
       "      <td>combination_of_factors_2</td>\n",
       "      <td>control\\medium</td>\n",
       "      <td>test\\high</td>\n",
       "      <td>False</td>\n",
       "      <td>False</td>\n",
       "      <td>3074.5</td>\n",
       "      <td>two-sided</td>\n",
       "      <td>0.607815</td>\n",
       "      <td>1.000000</td>\n",
       "      <td>holm</td>\n",
       "      <td>0.048833</td>\n",
       "    </tr>\n",
       "    <tr>\n",
       "      <th>10</th>\n",
       "      <td>combination_of_factors_2</td>\n",
       "      <td>control\\medium</td>\n",
       "      <td>test\\low</td>\n",
       "      <td>False</td>\n",
       "      <td>False</td>\n",
       "      <td>1935.5</td>\n",
       "      <td>two-sided</td>\n",
       "      <td>0.006192</td>\n",
       "      <td>0.061920</td>\n",
       "      <td>holm</td>\n",
       "      <td>-0.363770</td>\n",
       "    </tr>\n",
       "    <tr>\n",
       "      <th>11</th>\n",
       "      <td>combination_of_factors_2</td>\n",
       "      <td>control\\medium</td>\n",
       "      <td>test\\medium</td>\n",
       "      <td>False</td>\n",
       "      <td>False</td>\n",
       "      <td>2098.0</td>\n",
       "      <td>two-sided</td>\n",
       "      <td>0.002340</td>\n",
       "      <td>0.028084</td>\n",
       "      <td>holm</td>\n",
       "      <td>-0.610883</td>\n",
       "    </tr>\n",
       "    <tr>\n",
       "      <th>12</th>\n",
       "      <td>combination_of_factors_2</td>\n",
       "      <td>test\\high</td>\n",
       "      <td>test\\low</td>\n",
       "      <td>False</td>\n",
       "      <td>False</td>\n",
       "      <td>876.0</td>\n",
       "      <td>two-sided</td>\n",
       "      <td>0.035781</td>\n",
       "      <td>0.250469</td>\n",
       "      <td>holm</td>\n",
       "      <td>-0.433561</td>\n",
       "    </tr>\n",
       "    <tr>\n",
       "      <th>13</th>\n",
       "      <td>combination_of_factors_2</td>\n",
       "      <td>test\\high</td>\n",
       "      <td>test\\medium</td>\n",
       "      <td>False</td>\n",
       "      <td>False</td>\n",
       "      <td>944.0</td>\n",
       "      <td>two-sided</td>\n",
       "      <td>0.017605</td>\n",
       "      <td>0.158448</td>\n",
       "      <td>holm</td>\n",
       "      <td>-0.544531</td>\n",
       "    </tr>\n",
       "    <tr>\n",
       "      <th>14</th>\n",
       "      <td>combination_of_factors_2</td>\n",
       "      <td>test\\low</td>\n",
       "      <td>test\\medium</td>\n",
       "      <td>False</td>\n",
       "      <td>False</td>\n",
       "      <td>1030.0</td>\n",
       "      <td>two-sided</td>\n",
       "      <td>0.714520</td>\n",
       "      <td>1.000000</td>\n",
       "      <td>holm</td>\n",
       "      <td>-0.297161</td>\n",
       "    </tr>\n",
       "  </tbody>\n",
       "</table>\n",
       "</div>"
      ],
      "text/plain": [
       "                    Contrast               A               B  Paired  \\\n",
       "0   combination_of_factors_2    control\\high     control\\low   False   \n",
       "1   combination_of_factors_2    control\\high  control\\medium   False   \n",
       "2   combination_of_factors_2    control\\high       test\\high   False   \n",
       "3   combination_of_factors_2    control\\high        test\\low   False   \n",
       "4   combination_of_factors_2    control\\high     test\\medium   False   \n",
       "5   combination_of_factors_2     control\\low  control\\medium   False   \n",
       "6   combination_of_factors_2     control\\low       test\\high   False   \n",
       "7   combination_of_factors_2     control\\low        test\\low   False   \n",
       "8   combination_of_factors_2     control\\low     test\\medium   False   \n",
       "9   combination_of_factors_2  control\\medium       test\\high   False   \n",
       "10  combination_of_factors_2  control\\medium        test\\low   False   \n",
       "11  combination_of_factors_2  control\\medium     test\\medium   False   \n",
       "12  combination_of_factors_2       test\\high        test\\low   False   \n",
       "13  combination_of_factors_2       test\\high     test\\medium   False   \n",
       "14  combination_of_factors_2        test\\low     test\\medium   False   \n",
       "\n",
       "    Parametric   U-val alternative     p-unc    p-corr p-adjust    hedges  \n",
       "0        False  7157.0   two-sided  0.148264  0.741320     holm -0.126817  \n",
       "1        False  6358.0   two-sided  0.030626  0.245009     holm -0.131920  \n",
       "2        False  2684.0   two-sided  0.053877  0.323261     holm -0.091793  \n",
       "3        False  1635.5   two-sided  0.000081  0.001129     holm -0.483107  \n",
       "4        False  1718.5   two-sided  0.000009  0.000130     holm -0.689425  \n",
       "5        False  7467.5   two-sided  0.485271  1.000000     holm  0.083263  \n",
       "6        False  3198.5   two-sided  0.496501  1.000000     holm  0.084951  \n",
       "7        False  1973.5   two-sided  0.002589  0.028478     holm -0.034903  \n",
       "8        False  2117.0   two-sided  0.000678  0.008818     holm -0.198678  \n",
       "9        False  3074.5   two-sided  0.607815  1.000000     holm  0.048833  \n",
       "10       False  1935.5   two-sided  0.006192  0.061920     holm -0.363770  \n",
       "11       False  2098.0   two-sided  0.002340  0.028084     holm -0.610883  \n",
       "12       False   876.0   two-sided  0.035781  0.250469     holm -0.433561  \n",
       "13       False   944.0   two-sided  0.017605  0.158448     holm -0.544531  \n",
       "14       False  1030.0   two-sided  0.714520  1.000000     holm -0.297161  "
      ]
     },
     "execution_count": 65,
     "metadata": {},
     "output_type": "execute_result"
    }
   ],
   "source": [
    "# проводим парные тесты Манна-Уитни с попарвкой p-value Хольма\n",
    "pg.pairwise_ttests(data=combined_df.query('revenue > 0'), \n",
    "                   dv='revenue', \n",
    "                   between='combination_of_factors_2', \n",
    "                   parametric=False, \n",
    "                   padjust='holm')"
   ]
  },
  {
   "cell_type": "markdown",
   "metadata": {},
   "source": [
    "Статистически значимые различия получились для следующих пар: \n",
    "\n",
    "1)control\\high vs test\\low\\\n",
    "2)control\\high vs test\\medium\\\n",
    "**3)control\\low vs test\\low**\\\n",
    "4)control\\low vs test\\medium\\\n",
    "**5)control\\medium vs test\\medium**\n",
    "\n",
    "Таким образом, статистически значимый эффект от эксперимента (по выручке) наблюдается как для пользователей с низким коэффициентом привлекательности, так и для пользователей со средним коэффициентом привлекательности. И здесь, опять же, для полной картины необходимо посмотреть и на конверсию в подписку.  "
   ]
  },
  {
   "cell_type": "code",
   "execution_count": 66,
   "metadata": {},
   "outputs": [
    {
     "data": {
      "image/png": "[encoded data removed]",
      "text/plain": [
       "<Figure size 842.4x595.44 with 1 Axes>"
      ]
     },
     "metadata": {},
     "output_type": "display_data"
    }
   ],
   "source": [
    "# отобразим среднюю конверсию с доверительными интервалами в разрезе двух групп (коэф. привлек. и тест/контроль)\n",
    "sns.pointplot(x='group', y='conversion', hue='attr_coef_group', data=combined_df, capsize=.2, dodge=True);"
   ]
  },
  {
   "cell_type": "markdown",
   "metadata": {},
   "source": [
    "По графику хорошо видно, что средняя конверсия в подписку, в целом, различается для трёх групп, разделённых по коэффициенту привлекательности. Однако, нам более важно и интересно посмотреть на стат.значимость различий средних в разрезе тест/контроль для одной и той же группы, чтобы оценить возможность безболезненного повышения стоимости подписки для тех групп, у которых стат.значимо вырос ARPPU. Для этого воспользуемся z-тестом. Н0: средние значения между группами не различаются статистически значимо."
   ]
  },
  {
   "cell_type": "code",
   "execution_count": 67,
   "metadata": {},
   "outputs": [
    {
     "data": {
      "text/html": [
       "<div>\n",
       "<style scoped>\n",
       "    .dataframe tbody tr th:only-of-type {\n",
       "        vertical-align: middle;\n",
       "    }\n",
       "\n",
       "    .dataframe tbody tr th {\n",
       "        vertical-align: top;\n",
       "    }\n",
       "\n",
       "    .dataframe thead th {\n",
       "        text-align: right;\n",
       "    }\n",
       "</style>\n",
       "<table border=\"1\" class=\"dataframe\">\n",
       "  <thead>\n",
       "    <tr style=\"text-align: right;\">\n",
       "      <th></th>\n",
       "      <th>W</th>\n",
       "      <th>pval</th>\n",
       "      <th>equal_var</th>\n",
       "    </tr>\n",
       "  </thead>\n",
       "  <tbody>\n",
       "    <tr>\n",
       "      <th>levene</th>\n",
       "      <td>61.673979</td>\n",
       "      <td>2.200333e-27</td>\n",
       "      <td>False</td>\n",
       "    </tr>\n",
       "  </tbody>\n",
       "</table>\n",
       "</div>"
      ],
      "text/plain": [
       "                W          pval  equal_var\n",
       "levene  61.673979  2.200333e-27      False"
      ]
     },
     "execution_count": 67,
     "metadata": {},
     "output_type": "execute_result"
    }
   ],
   "source": [
    "# проверим равенство дисперсий между группами перед проведением z-теста\n",
    "# Н0: дисперсии между группами не различаются стат.значимо\n",
    "pg.homoscedasticity(data=combined_df, dv='conversion', group='attr_coef_group')"
   ]
  },
  {
   "cell_type": "markdown",
   "metadata": {},
   "source": [
    "Тест Левена показал, что дисперсии между группами различаются стат.значимо, значит, при проведении парных z-тестов сделаем на это поправку (как и поправку Бонферонни для корректировки уровня значимости, чтобы избежать проблемы парных сравнений)."
   ]
  },
  {
   "cell_type": "code",
   "execution_count": 68,
   "metadata": {},
   "outputs": [
    {
     "name": "stdout",
     "output_type": "stream",
     "text": [
      "z: 1.4104268244625706, p-value: 0.15841368937698153\n"
     ]
    }
   ],
   "source": [
    "# запускаем z-test для оценки стат.значимости различий средних между control/low и test/low групп\n",
    "cm = sms.CompareMeans(sms.DescrStatsW(combined_df.query('group == \"control\" and attr_coef_group == \"low\"').conversion), \n",
    "                      sms.DescrStatsW(combined_df.query('group == \"test\" and attr_coef_group == \"low\"').conversion))\n",
    "z, pval = cm.ztest_ind(usevar='unequal')\n",
    "print(f'z: {z}, p-value: {pval}')"
   ]
  },
  {
   "cell_type": "code",
   "execution_count": 69,
   "metadata": {},
   "outputs": [
    {
     "name": "stdout",
     "output_type": "stream",
     "text": [
      "z: 1.495288226966067, p-value: 0.13483923629849986\n"
     ]
    }
   ],
   "source": [
    "# запускаем z-test для оценки стат.значимости различий средних между control/medium и test/medium групп\n",
    "cm = sms.CompareMeans(sms.DescrStatsW(combined_df.query('group == \"control\" and attr_coef_group == \"medium\"').conversion), \n",
    "                      sms.DescrStatsW(combined_df.query('group == \"test\" and attr_coef_group == \"medium\"').conversion))\n",
    "z, pval = cm.ztest_ind(usevar='unequal')\n",
    "print(f'z: {z}, p-value: {pval}')"
   ]
  },
  {
   "cell_type": "code",
   "execution_count": 70,
   "metadata": {},
   "outputs": [
    {
     "name": "stdout",
     "output_type": "stream",
     "text": [
      "z: 1.0118655809670964, p-value: 0.31160232816359257\n"
     ]
    }
   ],
   "source": [
    "# запускаем z-test для оценки стат.значимости различий средних между control/high и test/high групп\n",
    "cm = sms.CompareMeans(sms.DescrStatsW(combined_df.query('group == \"control\" and attr_coef_group == \"high\"').conversion), \n",
    "                      sms.DescrStatsW(combined_df.query('group == \"test\" and attr_coef_group == \"high\"').conversion))\n",
    "z, pval = cm.ztest_ind(usevar='unequal')\n",
    "print(f'z: {z}, p-value: {pval}')"
   ]
  },
  {
   "cell_type": "markdown",
   "metadata": {},
   "source": [
    "Итак, в трёх z-тестах p-value > 0.05/3. Значит, мы не можем в каждом из них отвергнуть нулевую гипотезу о том, что средние не различаются стат.значимо. Отличная новость! Получается, что у групп \"low\" и \"medium\" в тестовой выборке наблюдается статистически значимый положительный эффект (по выручке) от эксперимента и при этом разница в конверсии в подписку между тестом и контролем для этих групп не является статистически значимой! Иными словами, эти группы пользователей отнеслись к повышению стоимости подписки спокойно, и на них можно в полной мере выкатывать обновление.\n",
    "\n",
    "Проанализируем данные еще в одном разрезе - резидент / не резидент США."
   ]
  },
  {
   "cell_type": "markdown",
   "metadata": {},
   "source": [
    "## USA! USA! USA!"
   ]
  },
  {
   "cell_type": "code",
   "execution_count": 71,
   "metadata": {},
   "outputs": [],
   "source": [
    "# разделим пользоваталей на резидентов США и не резидентов США\n",
    "combined_df['US_residency'] = combined_df['country'] \\\n",
    "                                .apply(lambda x: \n",
    "                                'US_resident' if x == \"United States of America\" else 'non_US_resident')"
   ]
  },
  {
   "cell_type": "code",
   "execution_count": 72,
   "metadata": {},
   "outputs": [
    {
     "data": {
      "image/png": "[encoded data removed]",
      "text/plain": [
       "<Figure size 842.4x595.44 with 1 Axes>"
      ]
     },
     "metadata": {},
     "output_type": "display_data"
    }
   ],
   "source": [
    "# отобразим средние с доверительными интервалами в разрезе двух групп (рез. США/не США и тест/контроль)\n",
    "sns.pointplot(x='group', \n",
    "              y='revenue', \n",
    "              hue='US_residency', \n",
    "              data=combined_df.query('revenue > 0'), \n",
    "              capsize=.2, \n",
    "              dodge=True);"
   ]
  },
  {
   "cell_type": "markdown",
   "metadata": {},
   "source": [
    "Исходя из получившегося графика, можно предположить, что есть разница в ARPPU между тестом и контролем для пользователей как для резидентов США и не США. Более точно ответив на этот вопрос с теста Манна-Уитни (в силу сильных выбросов). Н0: средние ранги между двумя группами не различаются статистиечски значимо."
   ]
  },
  {
   "cell_type": "code",
   "execution_count": 73,
   "metadata": {},
   "outputs": [
    {
     "data": {
      "text/html": [
       "<div>\n",
       "<style scoped>\n",
       "    .dataframe tbody tr th:only-of-type {\n",
       "        vertical-align: middle;\n",
       "    }\n",
       "\n",
       "    .dataframe tbody tr th {\n",
       "        vertical-align: top;\n",
       "    }\n",
       "\n",
       "    .dataframe thead th {\n",
       "        text-align: right;\n",
       "    }\n",
       "</style>\n",
       "<table border=\"1\" class=\"dataframe\">\n",
       "  <thead>\n",
       "    <tr style=\"text-align: right;\">\n",
       "      <th></th>\n",
       "      <th>A</th>\n",
       "      <th>B</th>\n",
       "      <th>p_alpha_Bonferonni</th>\n",
       "      <th>p_value</th>\n",
       "    </tr>\n",
       "  </thead>\n",
       "  <tbody>\n",
       "    <tr>\n",
       "      <th>0</th>\n",
       "      <td>control\\US_resident</td>\n",
       "      <td>test\\US_resident</td>\n",
       "      <td>0.025</td>\n",
       "      <td>0.007255</td>\n",
       "    </tr>\n",
       "    <tr>\n",
       "      <th>1</th>\n",
       "      <td>control\\non_US_resident</td>\n",
       "      <td>test\\non_US_resident</td>\n",
       "      <td>0.025</td>\n",
       "      <td>0.000178</td>\n",
       "    </tr>\n",
       "  </tbody>\n",
       "</table>\n",
       "</div>"
      ],
      "text/plain": [
       "                         A                     B  p_alpha_Bonferonni   p_value\n",
       "0      control\\US_resident      test\\US_resident               0.025  0.007255\n",
       "1  control\\non_US_resident  test\\non_US_resident               0.025  0.000178"
      ]
     },
     "execution_count": 73,
     "metadata": {},
     "output_type": "execute_result"
    }
   ],
   "source": [
    "# проводим два непараметрических теста\n",
    "mwu_country = pd.DataFrame({'A': ['control\\\\US_resident', 'control\\\\non_US_resident'],\n",
    "                            'B': ['test\\\\US_resident', 'test\\\\non_US_resident'],\n",
    "                            'p_alpha_Bonferonni': [0.05/2, 0.05/2], # поправка Бонферонни\n",
    "                            'p_value': [stats.mannwhitneyu(\n",
    "                                combined_df\n",
    "                               .query('revenue > 0 and group == \"control\" and US_residency == \"US_resident\"').revenue, \n",
    "                                combined_df\n",
    "                               .query('revenue > 0 and group == \"test\" and US_residency == \"US_resident\"').revenue)[1],\n",
    "                                        stats.mannwhitneyu(\n",
    "                                combined_df\n",
    "                               .query('revenue > 0 and group == \"control\" and US_residency == \"non_US_resident\"').revenue, \n",
    "                                combined_df\n",
    "                               .query('revenue > 0 and group == \"test\" and US_residency == \"non_US_resident\"').revenue)[1]]})\n",
    "mwu_country"
   ]
  },
  {
   "cell_type": "markdown",
   "metadata": {},
   "source": [
    "Как видим, для обеих групп пользователей наблюдается статистически значимый эффект от эксперимента. Теперь необходимо посмотреть на конверсию в покупку для этих групп между тестом и контролем."
   ]
  },
  {
   "cell_type": "code",
   "execution_count": 74,
   "metadata": {},
   "outputs": [
    {
     "data": {
      "image/png": "[encoded data removed]",
      "text/plain": [
       "<Figure size 842.4x595.44 with 1 Axes>"
      ]
     },
     "metadata": {},
     "output_type": "display_data"
    }
   ],
   "source": [
    "# отобразим среднюю конверсию с доверительными интервалами в разрезе двух групп (рез/не рез США. и тест/контроль)\n",
    "sns.pointplot(x='group', y='conversion', hue='US_residency', data=combined_df, capsize=.2, dodge=True);"
   ]
  },
  {
   "cell_type": "markdown",
   "metadata": {},
   "source": [
    "По графику видно, что доверительные интервалы конверсии тестовой группы включают в себя средние значения конверсии контрольной группы (в разрезе резидентов/не резидентов США). Поэтому, скорее всего, разница в конверсии в подписку для этих групп между тестом и контролем не статистически значима. Проверим это с помощью z-теста. Н0: средние значения между группами не различаются статистически значимо."
   ]
  },
  {
   "cell_type": "code",
   "execution_count": 75,
   "metadata": {},
   "outputs": [
    {
     "data": {
      "text/html": [
       "<div>\n",
       "<style scoped>\n",
       "    .dataframe tbody tr th:only-of-type {\n",
       "        vertical-align: middle;\n",
       "    }\n",
       "\n",
       "    .dataframe tbody tr th {\n",
       "        vertical-align: top;\n",
       "    }\n",
       "\n",
       "    .dataframe thead th {\n",
       "        text-align: right;\n",
       "    }\n",
       "</style>\n",
       "<table border=\"1\" class=\"dataframe\">\n",
       "  <thead>\n",
       "    <tr style=\"text-align: right;\">\n",
       "      <th></th>\n",
       "      <th>W</th>\n",
       "      <th>pval</th>\n",
       "      <th>equal_var</th>\n",
       "    </tr>\n",
       "  </thead>\n",
       "  <tbody>\n",
       "    <tr>\n",
       "      <th>levene</th>\n",
       "      <td>0.117187</td>\n",
       "      <td>0.732111</td>\n",
       "      <td>True</td>\n",
       "    </tr>\n",
       "  </tbody>\n",
       "</table>\n",
       "</div>"
      ],
      "text/plain": [
       "               W      pval  equal_var\n",
       "levene  0.117187  0.732111       True"
      ]
     },
     "execution_count": 75,
     "metadata": {},
     "output_type": "execute_result"
    }
   ],
   "source": [
    "# проверим равенство дисперсий между группами перед проведением z-теста\n",
    "# Н0: дисперсии между группами не различаются стат.значимо\n",
    "pg.homoscedasticity(data=combined_df, dv='conversion', group='US_residency')"
   ]
  },
  {
   "cell_type": "markdown",
   "metadata": {},
   "source": [
    "Итак, мы не можем отвергнуть нулевую гипотезу о равенсте дисперсий между группами. Теперь смело запускаем z-тесты!"
   ]
  },
  {
   "cell_type": "code",
   "execution_count": 76,
   "metadata": {},
   "outputs": [
    {
     "data": {
      "text/html": [
       "<div>\n",
       "<style scoped>\n",
       "    .dataframe tbody tr th:only-of-type {\n",
       "        vertical-align: middle;\n",
       "    }\n",
       "\n",
       "    .dataframe tbody tr th {\n",
       "        vertical-align: top;\n",
       "    }\n",
       "\n",
       "    .dataframe thead th {\n",
       "        text-align: right;\n",
       "    }\n",
       "</style>\n",
       "<table border=\"1\" class=\"dataframe\">\n",
       "  <thead>\n",
       "    <tr style=\"text-align: right;\">\n",
       "      <th></th>\n",
       "      <th>A</th>\n",
       "      <th>B</th>\n",
       "      <th>p_alpha_Bonferonni</th>\n",
       "      <th>p_value</th>\n",
       "    </tr>\n",
       "  </thead>\n",
       "  <tbody>\n",
       "    <tr>\n",
       "      <th>0</th>\n",
       "      <td>control\\US_resident</td>\n",
       "      <td>test\\US_resident</td>\n",
       "      <td>0.025</td>\n",
       "      <td>0.117891</td>\n",
       "    </tr>\n",
       "    <tr>\n",
       "      <th>1</th>\n",
       "      <td>control\\non_US_resident</td>\n",
       "      <td>test\\non_US_resident</td>\n",
       "      <td>0.025</td>\n",
       "      <td>0.125731</td>\n",
       "    </tr>\n",
       "  </tbody>\n",
       "</table>\n",
       "</div>"
      ],
      "text/plain": [
       "                         A                     B  p_alpha_Bonferonni   p_value\n",
       "0      control\\US_resident      test\\US_resident               0.025  0.117891\n",
       "1  control\\non_US_resident  test\\non_US_resident               0.025  0.125731"
      ]
     },
     "execution_count": 76,
     "metadata": {},
     "output_type": "execute_result"
    }
   ],
   "source": [
    "# выводим результаты z-тестов в датафрейм\n",
    "ztests_us = pd.DataFrame({'A': ['control\\\\US_resident', 'control\\\\non_US_resident'],\n",
    "                          'B': ['test\\\\US_resident', 'test\\\\non_US_resident'],\n",
    "                          'p_alpha_Bonferonni': [0.05/2, 0.05/2], # поправка Бонферонни\n",
    "                          'p_value': [ztest(\n",
    "                                combined_df\n",
    "                               .query('group == \"control\" and US_residency == \"US_resident\"').conversion, \n",
    "                                combined_df\n",
    "                               .query('group == \"test\" and US_residency == \"US_resident\"').conversion)[1],\n",
    "                                        ztest(\n",
    "                                combined_df\n",
    "                               .query('group == \"control\" and US_residency == \"non_US_resident\"').conversion, \n",
    "                                combined_df\n",
    "                               .query('group == \"test\" and US_residency == \"non_US_resident\"').conversion)[1]]})\n",
    "ztests_us"
   ]
  },
  {
   "cell_type": "markdown",
   "metadata": {},
   "source": [
    "Как видно из таблицы, мы не можем отвергнуть нулевую гипотезу об отсутсвии стат.значимого различия конверсии между тестом и контролем как для резидентов США, так и для не резидентов США. Таким образом, нет смысла разделять всех пользователей по этому критерию, поскольку они примерно одинаково отреагировали на повышение стомости подписки."
   ]
  },
  {
   "cell_type": "markdown",
   "metadata": {},
   "source": [
    "## Что в итоге делаем?"
   ]
  },
  {
   "cell_type": "markdown",
   "metadata": {},
   "source": [
    "Поскольку повышение стоимости подписки это достаточно рискованный шаг, который может привести к снижению лояльности пользователей и даже к их потере, то необходимо очень чётко понимать, на какие группы пользователей можно выкатывать такое обновление с минимальными для компании потерями, а для каких групп лучше повременить с рискованной задумкой.\n",
    "\n",
    "В ходе анализа было выявлено, что ARPPU следюущих групп пользователей статистически значимо вырос в ответ на повышение стоиомсти подписки:\n",
    "* Пользователи от 18 до 27 лет\n",
    "* Пользователи с коэффициентом привлекательности от 0 до 410.\n",
    "\n",
    "Однако, у пользователей от 18 до 27 лет было обнаружено статистически значимое падение конверсии в подписку вследствие эксперимента, что в долгосрочной перспективе может принести убытки компании. \n",
    "\n",
    "Таким образом, чтобы повысить прибыль компании, не потеряв при этом много лояльных пользователей, **выкатываем обновление только для пользователей с коэффициентом привлекательности от 0 до 410**."
   ]
  }
 ],
 "metadata": {
  "kernelspec": {
   "display_name": "Python 3",
   "language": "python",
   "name": "python3"
  },
  "language_info": {
   "codemirror_mode": {
    "name": "ipython",
    "version": 3
   },
   "file_extension": ".py",
   "mimetype": "text/x-python",
   "name": "python",
   "nbconvert_exporter": "python",
   "pygments_lexer": "ipython3",
   "version": "3.7.3"
  }
 },
 "nbformat": 4,
 "nbformat_minor": 4
}
